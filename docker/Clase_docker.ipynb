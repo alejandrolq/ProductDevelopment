{
  "nbformat": 4,
  "nbformat_minor": 5,
  "metadata": {
    "kernelspec": {
      "display_name": "Python 3 (ipykernel)",
      "language": "python",
      "name": "python3"
    },
    "language_info": {
      "codemirror_mode": {
        "name": "ipython",
        "version": 3
      },
      "file_extension": ".py",
      "mimetype": "text/x-python",
      "name": "python",
      "nbconvert_exporter": "python",
      "pygments_lexer": "ipython3",
      "version": "3.9.5"
    },
    "colab": {
      "name": "Clase_docker.ipynb",
      "provenance": [],
      "collapsed_sections": []
    }
  },
  "cells": [
    {
      "cell_type": "markdown",
      "metadata": {
        "id": "8d7e9cf7"
      },
      "source": [
        "**Nombre: José Alejandro López Quel**\n",
        "\n",
        "**Carné: 21001127**\n",
        "\n",
        "**Product Development**\n",
        "\n",
        "**Sección U**\n",
        "\n",
        "**Clase Docker**"
      ],
      "id": "8d7e9cf7"
    },
    {
      "cell_type": "markdown",
      "metadata": {
        "id": "k35MqWswLbUj"
      },
      "source": [
        "# Docker"
      ],
      "id": "k35MqWswLbUj"
    },
    {
      "cell_type": "markdown",
      "metadata": {
        "id": "SeAJ2DwAMBa_"
      },
      "source": [
        "## Ejecutando un contenedor"
      ],
      "id": "SeAJ2DwAMBa_"
    },
    {
      "cell_type": "code",
      "metadata": {
        "id": "43313407",
        "outputId": "bcf5e9c7-87ad-4d4c-ff72-069f87286740"
      },
      "source": [
        "!docker run hello-world"
      ],
      "id": "43313407",
      "execution_count": null,
      "outputs": [
        {
          "name": "stdout",
          "output_type": "stream",
          "text": [
            "\r\n",
            "Hello from Docker!\r\n",
            "This message shows that your installation appears to be working correctly.\r\n",
            "\r\n",
            "To generate this message, Docker took the following steps:\r\n",
            " 1. The Docker client contacted the Docker daemon.\r\n",
            " 2. The Docker daemon pulled the \"hello-world\" image from the Docker Hub.\r\n",
            "    (amd64)\r\n",
            " 3. The Docker daemon created a new container from that image which runs the\r\n",
            "    executable that produces the output you are currently reading.\r\n",
            " 4. The Docker daemon streamed that output to the Docker client, which sent it\r\n",
            "    to your terminal.\r\n",
            "\r\n",
            "To try something more ambitious, you can run an Ubuntu container with:\r\n",
            " $ docker run -it ubuntu bash\r\n",
            "\r\n",
            "Share images, automate workflows, and more with a free Docker ID:\r\n",
            " https://hub.docker.com/\r\n",
            "\r\n",
            "For more examples and ideas, visit:\r\n",
            " https://docs.docker.com/get-started/\r\n",
            "\r\n"
          ]
        }
      ]
    },
    {
      "cell_type": "markdown",
      "metadata": {
        "id": "ha32ByW9MMTt"
      },
      "source": [
        "## Descargar una imagen de contenedor"
      ],
      "id": "ha32ByW9MMTt"
    },
    {
      "cell_type": "code",
      "metadata": {
        "id": "ca0c2992",
        "outputId": "e6d2b8a9-a0bf-4996-de43-63fa4729d0c1"
      },
      "source": [
        "!docker pull busybox"
      ],
      "id": "ca0c2992",
      "execution_count": null,
      "outputs": [
        {
          "name": "stdout",
          "output_type": "stream",
          "text": [
            "Using default tag: latest\n",
            "latest: Pulling from library/busybox\n",
            "\n",
            "\u001b[1Bcdc13739: Pull complete 2.8kB/772.8kBB\u001b[1A\u001b[2K\u001b[1A\u001b[2K\u001b[1A\u001b[2K\u001b[1A\u001b[2KDigest: sha256:15e927f78df2cc772b70713543d6b651e3cd8370abf86b2ea4644a9fba21107f\n",
            "Status: Downloaded newer image for busybox:latest\n",
            "docker.io/library/busybox:latest\n"
          ]
        }
      ]
    },
    {
      "cell_type": "markdown",
      "metadata": {
        "id": "c3qPjx7BMS2e"
      },
      "source": [
        "## Mostrar todas las imagenes disponibles"
      ],
      "id": "c3qPjx7BMS2e"
    },
    {
      "cell_type": "code",
      "metadata": {
        "id": "5f674626",
        "outputId": "7f7171a4-60e2-43a6-a2f8-6e343d7f4b9a"
      },
      "source": [
        "!docker images"
      ],
      "id": "5f674626",
      "execution_count": null,
      "outputs": [
        {
          "name": "stdout",
          "output_type": "stream",
          "text": [
            "REPOSITORY              TAG       IMAGE ID       CREATED       SIZE\r\n",
            "busybox                 latest    cabb9f684f8b   4 hours ago   1.24MB\r\n",
            "jupyter/base-notebook   latest    f14b646c836f   2 weeks ago   668MB\r\n",
            "ubuntu                  latest    597ce1600cf4   3 weeks ago   72.8MB\r\n",
            "mysql                   5.7.35    9f35042c6a98   4 weeks ago   448MB\r\n",
            "hello-world             latest    feb5d9fea6a5   4 weeks ago   13.3kB\r\n",
            "busybox                 <none>    16ea53ea7c65   6 weeks ago   1.24MB\r\n"
          ]
        }
      ]
    },
    {
      "cell_type": "markdown",
      "metadata": {
        "id": "cwGLmvMTMm6X"
      },
      "source": [
        "## Ejecutar un contenedor con parámetros"
      ],
      "id": "cwGLmvMTMm6X"
    },
    {
      "cell_type": "code",
      "metadata": {
        "id": "6ed83190",
        "outputId": "29786ae4-f12e-48f4-bbb8-6538b21a2edb"
      },
      "source": [
        "!docker run busybox echo \"Hello world!\""
      ],
      "id": "6ed83190",
      "execution_count": null,
      "outputs": [
        {
          "name": "stdout",
          "output_type": "stream",
          "text": [
            "Hello world!\r\n"
          ]
        }
      ]
    },
    {
      "cell_type": "markdown",
      "metadata": {
        "id": "Gt02G4nNMte5"
      },
      "source": [
        "## Mostrar contenedores que se estan ejecutando"
      ],
      "id": "Gt02G4nNMte5"
    },
    {
      "cell_type": "code",
      "metadata": {
        "id": "f1f8b6c3",
        "outputId": "e1442123-70d8-4e26-fc8c-01f13dfa391b"
      },
      "source": [
        "!docker ps"
      ],
      "id": "f1f8b6c3",
      "execution_count": null,
      "outputs": [
        {
          "name": "stdout",
          "output_type": "stream",
          "text": [
            "CONTAINER ID   IMAGE          COMMAND                  CREATED       STATUS        PORTS                                                  NAMES\r\n",
            "9186743f8049   mysql:5.7.35   \"docker-entrypoint.s…\"   2 weeks ago   Up 23 hours   0.0.0.0:3306->3306/tcp, :::3306->3306/tcp, 33060/tcp   alq_db_1\r\n"
          ]
        }
      ]
    },
    {
      "cell_type": "markdown",
      "metadata": {
        "id": "PQqGuwXxMzZo"
      },
      "source": [
        "## Mostrar todos los contenedores ejecutados"
      ],
      "id": "PQqGuwXxMzZo"
    },
    {
      "cell_type": "code",
      "metadata": {
        "id": "17fc6192",
        "outputId": "825e7690-0867-4aeb-f2c7-82bd826760e9"
      },
      "source": [
        "!docker ps -a"
      ],
      "id": "17fc6192",
      "execution_count": null,
      "outputs": [
        {
          "name": "stdout",
          "output_type": "stream",
          "text": [
            "CONTAINER ID   IMAGE                   COMMAND                  CREATED          STATUS                      PORTS                                                  NAMES\r\n",
            "9399190da414   busybox                 \"echo 'Hello world!'\"    3 minutes ago    Exited (0) 3 minutes ago                                                           blissful_archimedes\r\n",
            "4a5509b6c485   hello-world             \"/hello\"                 10 minutes ago   Exited (0) 10 minutes ago                                                          lucid_brahmagupta\r\n",
            "9186743f8049   mysql:5.7.35            \"docker-entrypoint.s…\"   2 weeks ago      Up 23 hours                 0.0.0.0:3306->3306/tcp, :::3306->3306/tcp, 33060/tcp   alq_db_1\r\n",
            "4a56fd3ffd11   jupyter/base-notebook   \"tini -g -- start-no…\"   2 weeks ago      Exited (0) 2 weeks ago                                                             alq_jupyter_1\r\n",
            "3822de7488a1   jupyter/base-notebook   \"tini -g -- start-no…\"   2 weeks ago      Exited (0) 2 weeks ago                                                             goofy_ellis\r\n",
            "2e56a7fa0952   mysql:5.7.35            \"docker-entrypoint.s…\"   2 weeks ago      Exited (0) 2 weeks ago                                                             inspiring_herschel\r\n",
            "ecd775b13195   mysql:5.7.35            \"docker-entrypoint.s…\"   2 weeks ago      Exited (0) 2 weeks ago                                                             amazing_lederberg\r\n",
            "0de2fd2b1091   jupyter/base-notebook   \"tini -g -- password\"    2 weeks ago      Exited (127) 2 weeks ago                                                           intelligent_lalande\r\n",
            "e49f6fdfb296   jupyter/base-notebook   \"tini -g -- start-no…\"   2 weeks ago      Exited (0) 2 weeks ago                                                             strange_mccarthy\r\n",
            "676668c9a989   16ea53ea7c65            \"sh\"                     2 weeks ago      Exited (0) 2 weeks ago                                                             laughing_cannon\r\n",
            "addd4b0201c5   16ea53ea7c65            \"echo 'hello from bu…\"   2 weeks ago      Exited (0) 2 weeks ago                                                             heuristic_lehmann\r\n",
            "16a9bd012951   16ea53ea7c65            \"sh\"                     2 weeks ago      Exited (0) 2 weeks ago                                                             frosty_darwin\r\n",
            "365b15bc8df1   hello-world             \"/hello\"                 2 weeks ago      Exited (0) 2 weeks ago                                                             lucid_villani\r\n",
            "8eb505201a04   hello-world             \"/hello\"                 2 weeks ago      Exited (0) 2 weeks ago                                                             boring_gates\r\n",
            "eb88b58c7fca   hello-world             \"/hello\"                 2 weeks ago      Exited (0) 2 weeks ago                                                             upbeat_keller\r\n",
            "f871664923c3   hello-world             \"/hello\"                 2 weeks ago      Exited (0) 2 weeks ago                                                             nostalgic_chandrasekhar\r\n",
            "1d4e3ad1c228   hello-world             \"/hello\"                 2 weeks ago      Exited (0) 2 weeks ago                                                             fervent_beaver\r\n"
          ]
        }
      ]
    },
    {
      "cell_type": "markdown",
      "metadata": {
        "id": "3Ey1T3U1NvIO"
      },
      "source": [
        "## Ejecutar contenedor en modo interactivo"
      ],
      "id": "3Ey1T3U1NvIO"
    },
    {
      "cell_type": "code",
      "metadata": {
        "id": "8b67a080",
        "outputId": "95d672b8-65b9-4d0a-ed41-5d6e9603b93f"
      },
      "source": [
        "!docker run -it busybox sh"
      ],
      "id": "8b67a080",
      "execution_count": null,
      "outputs": [
        {
          "name": "stdout",
          "output_type": "stream",
          "text": [
            "/ # \u001b[J^C\n",
            "/ # \n",
            "/ # "
          ]
        }
      ]
    },
    {
      "cell_type": "markdown",
      "metadata": {
        "id": "nQZpG41CNy7K"
      },
      "source": [
        "## Eliminar un contenedor"
      ],
      "id": "nQZpG41CNy7K"
    },
    {
      "cell_type": "code",
      "metadata": {
        "id": "3dcfacfa",
        "outputId": "9fb089e6-4cc1-43e6-8cbe-c5eec0f529c4"
      },
      "source": [
        "!docker rm f871664923c3"
      ],
      "id": "3dcfacfa",
      "execution_count": null,
      "outputs": [
        {
          "name": "stdout",
          "output_type": "stream",
          "text": [
            "f871664923c3\r\n"
          ]
        }
      ]
    },
    {
      "cell_type": "code",
      "metadata": {
        "id": "dc053e04",
        "outputId": "daa5181d-ccbc-439c-b18c-210e08f08a12"
      },
      "source": [
        "!docker ps -a"
      ],
      "id": "dc053e04",
      "execution_count": null,
      "outputs": [
        {
          "name": "stdout",
          "output_type": "stream",
          "text": [
            "CONTAINER ID   IMAGE                   COMMAND                  CREATED          STATUS                        PORTS                                                  NAMES\r\n",
            "314beef96721   busybox                 \"sh\"                     16 minutes ago   Exited (130) 15 minutes ago                                                          funny_driscoll\r\n",
            "35d5542ab9a6   busybox                 \"sh\"                     17 minutes ago   Up 17 minutes                                                                        elated_feynman\r\n",
            "9399190da414   busybox                 \"echo 'Hello world!'\"    22 minutes ago   Exited (0) 22 minutes ago                                                            blissful_archimedes\r\n",
            "4a5509b6c485   hello-world             \"/hello\"                 28 minutes ago   Exited (0) 28 minutes ago                                                            lucid_brahmagupta\r\n",
            "9186743f8049   mysql:5.7.35            \"docker-entrypoint.s…\"   2 weeks ago      Up 24 hours                   0.0.0.0:3306->3306/tcp, :::3306->3306/tcp, 33060/tcp   alq_db_1\r\n",
            "4a56fd3ffd11   jupyter/base-notebook   \"tini -g -- start-no…\"   2 weeks ago      Exited (0) 2 weeks ago                                                               alq_jupyter_1\r\n",
            "3822de7488a1   jupyter/base-notebook   \"tini -g -- start-no…\"   2 weeks ago      Exited (0) 2 weeks ago                                                               goofy_ellis\r\n",
            "2e56a7fa0952   mysql:5.7.35            \"docker-entrypoint.s…\"   2 weeks ago      Exited (0) 2 weeks ago                                                               inspiring_herschel\r\n",
            "ecd775b13195   mysql:5.7.35            \"docker-entrypoint.s…\"   2 weeks ago      Exited (0) 2 weeks ago                                                               amazing_lederberg\r\n",
            "0de2fd2b1091   jupyter/base-notebook   \"tini -g -- password\"    2 weeks ago      Exited (127) 2 weeks ago                                                             intelligent_lalande\r\n",
            "e49f6fdfb296   jupyter/base-notebook   \"tini -g -- start-no…\"   2 weeks ago      Exited (0) 2 weeks ago                                                               strange_mccarthy\r\n",
            "676668c9a989   16ea53ea7c65            \"sh\"                     2 weeks ago      Exited (0) 2 weeks ago                                                               laughing_cannon\r\n",
            "addd4b0201c5   16ea53ea7c65            \"echo 'hello from bu…\"   2 weeks ago      Exited (0) 2 weeks ago                                                               heuristic_lehmann\r\n",
            "16a9bd012951   16ea53ea7c65            \"sh\"                     2 weeks ago      Exited (0) 2 weeks ago                                                               frosty_darwin\r\n",
            "365b15bc8df1   hello-world             \"/hello\"                 2 weeks ago      Exited (0) 2 weeks ago                                                               lucid_villani\r\n",
            "8eb505201a04   hello-world             \"/hello\"                 2 weeks ago      Exited (0) 2 weeks ago                                                               boring_gates\r\n",
            "eb88b58c7fca   hello-world             \"/hello\"                 2 weeks ago      Exited (0) 2 weeks ago                                                               upbeat_keller\r\n"
          ]
        }
      ]
    },
    {
      "cell_type": "code",
      "metadata": {
        "id": "ab4060d7",
        "outputId": "e9759a58-80d9-4a4b-d472-1696351d6c8b"
      },
      "source": [
        "!docker rm upbeat_keller boring_gates"
      ],
      "id": "ab4060d7",
      "execution_count": null,
      "outputs": [
        {
          "name": "stdout",
          "output_type": "stream",
          "text": [
            "upbeat_keller\r\n",
            "boring_gates\r\n"
          ]
        }
      ]
    },
    {
      "cell_type": "code",
      "metadata": {
        "id": "f79bcaa6",
        "outputId": "a17ab3b4-df86-4e10-c8dc-824fc5907114"
      },
      "source": [
        "!docker ps -a"
      ],
      "id": "f79bcaa6",
      "execution_count": null,
      "outputs": [
        {
          "name": "stdout",
          "output_type": "stream",
          "text": [
            "CONTAINER ID   IMAGE                   COMMAND                  CREATED          STATUS                        PORTS                                                  NAMES\r\n",
            "314beef96721   busybox                 \"sh\"                     17 minutes ago   Exited (130) 16 minutes ago                                                          funny_driscoll\r\n",
            "35d5542ab9a6   busybox                 \"sh\"                     18 minutes ago   Up 18 minutes                                                                        elated_feynman\r\n",
            "9399190da414   busybox                 \"echo 'Hello world!'\"    23 minutes ago   Exited (0) 23 minutes ago                                                            blissful_archimedes\r\n",
            "4a5509b6c485   hello-world             \"/hello\"                 29 minutes ago   Exited (0) 29 minutes ago                                                            lucid_brahmagupta\r\n",
            "9186743f8049   mysql:5.7.35            \"docker-entrypoint.s…\"   2 weeks ago      Up 24 hours                   0.0.0.0:3306->3306/tcp, :::3306->3306/tcp, 33060/tcp   alq_db_1\r\n",
            "4a56fd3ffd11   jupyter/base-notebook   \"tini -g -- start-no…\"   2 weeks ago      Exited (0) 2 weeks ago                                                               alq_jupyter_1\r\n",
            "3822de7488a1   jupyter/base-notebook   \"tini -g -- start-no…\"   2 weeks ago      Exited (0) 2 weeks ago                                                               goofy_ellis\r\n",
            "2e56a7fa0952   mysql:5.7.35            \"docker-entrypoint.s…\"   2 weeks ago      Exited (0) 2 weeks ago                                                               inspiring_herschel\r\n",
            "ecd775b13195   mysql:5.7.35            \"docker-entrypoint.s…\"   2 weeks ago      Exited (0) 2 weeks ago                                                               amazing_lederberg\r\n",
            "0de2fd2b1091   jupyter/base-notebook   \"tini -g -- password\"    2 weeks ago      Exited (127) 2 weeks ago                                                             intelligent_lalande\r\n",
            "e49f6fdfb296   jupyter/base-notebook   \"tini -g -- start-no…\"   2 weeks ago      Exited (0) 2 weeks ago                                                               strange_mccarthy\r\n",
            "676668c9a989   16ea53ea7c65            \"sh\"                     2 weeks ago      Exited (0) 2 weeks ago                                                               laughing_cannon\r\n",
            "addd4b0201c5   16ea53ea7c65            \"echo 'hello from bu…\"   2 weeks ago      Exited (0) 2 weeks ago                                                               heuristic_lehmann\r\n",
            "16a9bd012951   16ea53ea7c65            \"sh\"                     2 weeks ago      Exited (0) 2 weeks ago                                                               frosty_darwin\r\n",
            "365b15bc8df1   hello-world             \"/hello\"                 2 weeks ago      Exited (0) 2 weeks ago                                                               lucid_villani\r\n"
          ]
        }
      ]
    },
    {
      "cell_type": "markdown",
      "metadata": {
        "id": "iBRYPTCLN3Zz"
      },
      "source": [
        "## Eliminar todos los contenedores detenidos"
      ],
      "id": "iBRYPTCLN3Zz"
    },
    {
      "cell_type": "code",
      "metadata": {
        "id": "fe285a1e",
        "outputId": "988ebb32-7fda-4547-f281-97ac96e505aa"
      },
      "source": [
        "!docker container prune"
      ],
      "id": "fe285a1e",
      "execution_count": null,
      "outputs": [
        {
          "name": "stdout",
          "output_type": "stream",
          "text": [
            "WARNING! This will remove all stopped containers.\n",
            "Are you sure you want to continue? [y/N] ^C\n"
          ]
        }
      ]
    },
    {
      "cell_type": "markdown",
      "metadata": {
        "id": "KtJ5Fnu4N8zg"
      },
      "source": [
        "## Mostrar documentación de los comandos"
      ],
      "id": "KtJ5Fnu4N8zg"
    },
    {
      "cell_type": "code",
      "metadata": {
        "id": "eb197ec5",
        "outputId": "489393d4-541e-4c2c-a214-85c429eaf3d9"
      },
      "source": [
        "!docker ps --help"
      ],
      "id": "eb197ec5",
      "execution_count": null,
      "outputs": [
        {
          "name": "stdout",
          "output_type": "stream",
          "text": [
            "\r\n",
            "Usage:  docker ps [OPTIONS]\r\n",
            "\r\n",
            "List containers\r\n",
            "\r\n",
            "Options:\r\n",
            "  -a, --all             Show all containers (default shows just running)\r\n",
            "  -f, --filter filter   Filter output based on conditions provided\r\n",
            "      --format string   Pretty-print containers using a Go template\r\n",
            "  -n, --last int        Show n last created containers (includes all\r\n",
            "                        states) (default -1)\r\n",
            "  -l, --latest          Show the latest created container (includes all\r\n",
            "                        states)\r\n",
            "      --no-trunc        Don't truncate output\r\n",
            "  -q, --quiet           Only display container IDs\r\n",
            "  -s, --size            Display total file sizes\r\n"
          ]
        }
      ]
    },
    {
      "cell_type": "code",
      "metadata": {
        "id": "8770f4d1",
        "outputId": "0769097b-0175-4cbf-af5e-479281bed27f"
      },
      "source": [
        "!docker ps -aq"
      ],
      "id": "8770f4d1",
      "execution_count": null,
      "outputs": [
        {
          "name": "stdout",
          "output_type": "stream",
          "text": [
            "314beef96721\r\n",
            "35d5542ab9a6\r\n",
            "9399190da414\r\n",
            "4a5509b6c485\r\n",
            "9186743f8049\r\n",
            "4a56fd3ffd11\r\n",
            "3822de7488a1\r\n",
            "2e56a7fa0952\r\n",
            "ecd775b13195\r\n",
            "0de2fd2b1091\r\n",
            "e49f6fdfb296\r\n",
            "676668c9a989\r\n",
            "addd4b0201c5\r\n",
            "16a9bd012951\r\n",
            "365b15bc8df1\r\n"
          ]
        }
      ]
    },
    {
      "cell_type": "code",
      "metadata": {
        "id": "496a04ac",
        "outputId": "4ea7248a-1a6c-4284-dc8c-6b4d07ee4599"
      },
      "source": [
        "!docker ps -as"
      ],
      "id": "496a04ac",
      "execution_count": null,
      "outputs": [
        {
          "name": "stdout",
          "output_type": "stream",
          "text": [
            "CONTAINER ID   IMAGE                   COMMAND                  CREATED        STATUS                      PORTS                                                  NAMES                 SIZE\r\n",
            "314beef96721   busybox                 \"sh\"                     17 hours ago   Exited (130) 17 hours ago                                                          funny_driscoll        26B (virtual 1.24MB)\r\n",
            "35d5542ab9a6   busybox                 \"sh\"                     17 hours ago   Up 17 hours                                                                        elated_feynman        0B (virtual 1.24MB)\r\n",
            "9399190da414   busybox                 \"echo 'Hello world!'\"    18 hours ago   Exited (0) 18 hours ago                                                            blissful_archimedes   0B (virtual 1.24MB)\r\n",
            "4a5509b6c485   hello-world             \"/hello\"                 18 hours ago   Exited (0) 18 hours ago                                                            lucid_brahmagupta     0B (virtual 13.3kB)\r\n",
            "9186743f8049   mysql:5.7.35            \"docker-entrypoint.s…\"   2 weeks ago    Up 41 hours                 0.0.0.0:3306->3306/tcp, :::3306->3306/tcp, 33060/tcp   alq_db_1              4B (virtual 448MB)\r\n",
            "4a56fd3ffd11   jupyter/base-notebook   \"tini -g -- start-no…\"   2 weeks ago    Exited (0) 2 weeks ago                                                             alq_jupyter_1         274MB (virtual 942MB)\r\n",
            "3822de7488a1   jupyter/base-notebook   \"tini -g -- start-no…\"   2 weeks ago    Exited (0) 2 weeks ago                                                             goofy_ellis           276MB (virtual 944MB)\r\n",
            "2e56a7fa0952   mysql:5.7.35            \"docker-entrypoint.s…\"   2 weeks ago    Exited (0) 2 weeks ago                                                             inspiring_herschel    0B (virtual 448MB)\r\n",
            "ecd775b13195   mysql:5.7.35            \"docker-entrypoint.s…\"   2 weeks ago    Exited (0) 2 weeks ago                                                             amazing_lederberg     0B (virtual 448MB)\r\n",
            "0de2fd2b1091   jupyter/base-notebook   \"tini -g -- password\"    2 weeks ago    Exited (127) 2 weeks ago                                                           intelligent_lalande   0B (virtual 668MB)\r\n",
            "e49f6fdfb296   jupyter/base-notebook   \"tini -g -- start-no…\"   2 weeks ago    Exited (0) 2 weeks ago                                                             strange_mccarthy      45B (virtual 668MB)\r\n",
            "676668c9a989   16ea53ea7c65            \"sh\"                     2 weeks ago    Exited (0) 2 weeks ago                                                             laughing_cannon       15B (virtual 1.24MB)\r\n",
            "addd4b0201c5   16ea53ea7c65            \"echo 'hello from bu…\"   2 weeks ago    Exited (0) 2 weeks ago                                                             heuristic_lehmann     0B (virtual 1.24MB)\r\n",
            "16a9bd012951   16ea53ea7c65            \"sh\"                     2 weeks ago    Exited (0) 2 weeks ago                                                             frosty_darwin         0B (virtual 1.24MB)\r\n",
            "365b15bc8df1   hello-world             \"/hello\"                 2 weeks ago    Exited (0) 2 weeks ago                                                             lucid_villani         0B (virtual 13.3kB)\r\n"
          ]
        }
      ]
    },
    {
      "cell_type": "markdown",
      "metadata": {
        "id": "kZ-RmMf7OFv3"
      },
      "source": [
        "## Jupyter notebooks en contenedor"
      ],
      "id": "kZ-RmMf7OFv3"
    },
    {
      "cell_type": "code",
      "metadata": {
        "id": "f2e6c7b0",
        "outputId": "4c27b01f-89cf-4f04-8d5d-9c4568cffcfd"
      },
      "source": [
        "!docker pull jupyter/base-notebook"
      ],
      "id": "f2e6c7b0",
      "execution_count": null,
      "outputs": [
        {
          "name": "stdout",
          "output_type": "stream",
          "text": [
            "Using default tag: latest\n",
            "latest: Pulling from jupyter/base-notebook\n",
            "\n",
            "\u001b[1B6ab2e44d: Pulling fs layer \n",
            "\u001b[1Bfa3625cd: Pulling fs layer \n",
            "\u001b[1Bdc0afe24: Pulling fs layer \n",
            "\u001b[1B4649d322: Pulling fs layer \n",
            "\u001b[1B2562ccc2: Pulling fs layer \n",
            "\u001b[1B0498c07b: Waiting fs layer \n",
            "\u001b[1B3fac3ecc: Pulling fs layer \n",
            "\u001b[1B568369b9: Pulling fs layer \n",
            "\u001b[1Bd014e8bd: Pulling fs layer \n",
            "\u001b[1Bb4f7efb6: Pulling fs layer \n",
            "\u001b[1BDigest: sha256:37f879d1621529324c890ad2fa8d8432e2ca67c62874878b9b5e93d78671a3c7K\u001b[10A\u001b[2K\u001b[10A\u001b[2K\u001b[11A\u001b[2K\u001b[10A\u001b[2K\u001b[11A\u001b[2K\u001b[10A\u001b[2K\u001b[10A\u001b[2K\u001b[11A\u001b[2K\u001b[10A\u001b[2K\u001b[11A\u001b[2K\u001b[10A\u001b[2K\u001b[10A\u001b[2K\u001b[10A\u001b[2K\u001b[11A\u001b[2K\u001b[10A\u001b[2K\u001b[11A\u001b[2K\u001b[10A\u001b[2K\u001b[10A\u001b[2K\u001b[10A\u001b[2K\u001b[10A\u001b[2K\u001b[8A\u001b[2K\u001b[11A\u001b[2K\u001b[11A\u001b[2K\u001b[11A\u001b[2K\u001b[7A\u001b[2K\u001b[6A\u001b[2K\u001b[11A\u001b[2K\u001b[11A\u001b[2K\u001b[11A\u001b[2K\u001b[11A\u001b[2K\u001b[4A\u001b[2K\u001b[11A\u001b[2K\u001b[5A\u001b[2K\u001b[4A\u001b[2K\u001b[11A\u001b[2K\u001b[5A\u001b[2K\u001b[11A\u001b[2K\u001b[11A\u001b[2K\u001b[4A\u001b[2K\u001b[5A\u001b[2K\u001b[4A\u001b[2K\u001b[5A\u001b[2K\u001b[11A\u001b[2K\u001b[5A\u001b[2K\u001b[4A\u001b[2K\u001b[11A\u001b[2K\u001b[5A\u001b[2K\u001b[4A\u001b[2K\u001b[5A\u001b[2K\u001b[11A\u001b[2K\u001b[5A\u001b[2K\u001b[11A\u001b[2K\u001b[5A\u001b[2K\u001b[11A\u001b[2K\u001b[5A\u001b[2K\u001b[4A\u001b[2K\u001b[11A\u001b[2K\u001b[4A\u001b[2K\u001b[5A\u001b[2K\u001b[11A\u001b[2K\u001b[4A\u001b[2K\u001b[5A\u001b[2K\u001b[11A\u001b[2K\u001b[4A\u001b[2K\u001b[5A\u001b[2K\u001b[11A\u001b[2K\u001b[4A\u001b[2K\u001b[5A\u001b[2K\u001b[4A\u001b[2K\u001b[5A\u001b[2K\u001b[11A\u001b[2K\u001b[4A\u001b[2K\u001b[11A\u001b[2K\u001b[4A\u001b[2K\u001b[5A\u001b[2K\u001b[11A\u001b[2K\u001b[11A\u001b[2K\u001b[5A\u001b[2K\u001b[4A\u001b[2K\u001b[5A\u001b[2K\u001b[4A\u001b[2K\u001b[5A\u001b[2K\u001b[11A\u001b[2K\u001b[5A\u001b[2K\u001b[4A\u001b[2K\u001b[4A\u001b[2K\u001b[5A\u001b[2K\u001b[11A\u001b[2K\u001b[4A\u001b[2K\u001b[11A\u001b[2K\u001b[4A\u001b[2K\u001b[5A\u001b[2K\u001b[4A\u001b[2K\u001b[11A\u001b[2K\u001b[5A\u001b[2K\u001b[11A\u001b[2K\u001b[4A\u001b[2K\u001b[11A\u001b[2K\u001b[4A\u001b[2K\u001b[11A\u001b[2K\u001b[11A\u001b[2K\u001b[5A\u001b[2K\u001b[11A\u001b[2K\u001b[5A\u001b[2K\u001b[11A\u001b[2K\u001b[5A\u001b[2K\u001b[11A\u001b[2K\u001b[4A\u001b[2K\u001b[11A\u001b[2K\u001b[4A\u001b[2K\u001b[5A\u001b[2K\u001b[11A\u001b[2K\u001b[4A\u001b[2K\u001b[5A\u001b[2K\u001b[11A\u001b[2K\u001b[11A\u001b[2K\u001b[5A\u001b[2K\u001b[4A\u001b[2K\u001b[11A\u001b[2K\u001b[5A\u001b[2K\u001b[11A\u001b[2K\u001b[4A\u001b[2K\u001b[11A\u001b[2K\u001b[5A\u001b[2K\u001b[11A\u001b[2K\u001b[4A\u001b[2K\u001b[5A\u001b[2K\u001b[4A\u001b[2K\u001b[5A\u001b[2K\u001b[4A\u001b[2K\u001b[11A\u001b[2K\u001b[5A\u001b[2K\u001b[11A\u001b[2K\u001b[11A\u001b[2K\u001b[4A\u001b[2K\u001b[11A\u001b[2K\u001b[5A\u001b[2K\u001b[11A\u001b[2K\u001b[4A\u001b[2K\u001b[11A\u001b[2K\u001b[5A\u001b[2K\u001b[11A\u001b[2K\u001b[5A\u001b[2K\u001b[11A\u001b[2K\u001b[5A\u001b[2K\u001b[11A\u001b[2K\u001b[3A\u001b[2K\u001b[5A\u001b[2K\u001b[11A\u001b[2K\u001b[10A\u001b[2K\u001b[4A\u001b[2K\u001b[10A\u001b[2K\u001b[10A\u001b[2K\u001b[4A\u001b[2K\u001b[10A\u001b[2K\u001b[10A\u001b[2K\u001b[9A\u001b[2K\u001b[5A\u001b[2K\u001b[4A\u001b[2K\u001b[7A\u001b[2K\u001b[5A\u001b[2K\u001b[6A\u001b[2K\u001b[4A\u001b[2K\u001b[5A\u001b[2K\u001b[4A\u001b[2K\u001b[5A\u001b[2K\u001b[4A\u001b[2K\u001b[5A\u001b[2K\u001b[4A\u001b[2K\u001b[4A\u001b[2K\u001b[4A\u001b[2K\u001b[4A\u001b[2K\u001b[5A\u001b[2K\u001b[4A\u001b[2K\u001b[4A\u001b[2K\u001b[5A\u001b[2K\u001b[4A\u001b[2K\u001b[4A\u001b[2K\u001b[4A\u001b[2K\u001b[4A\u001b[2K\u001b[5A\u001b[2K\u001b[4A\u001b[2K\u001b[5A\u001b[2K\u001b[4A\u001b[2K\u001b[5A\u001b[2K\u001b[4A\u001b[2K\u001b[4A\u001b[2K\u001b[5A\u001b[2K\u001b[4A\u001b[2K\u001b[5A\u001b[2K\u001b[4A\u001b[2K\u001b[5A\u001b[2K\u001b[4A\u001b[2K\u001b[4A\u001b[2K\u001b[5A\u001b[2K\u001b[4A\u001b[2K\u001b[5A\u001b[2K\u001b[4A\u001b[2K\u001b[4A\u001b[2K\u001b[4A\u001b[2K\u001b[5A\u001b[2K\u001b[5A\u001b[2K\u001b[5A\u001b[2K\u001b[4A\u001b[2K\u001b[4A\u001b[2K\u001b[5A\u001b[2K\u001b[4A\u001b[2K\u001b[5A\u001b[2K\u001b[4A\u001b[2K\u001b[5A\u001b[2K\u001b[4A\u001b[2K\u001b[5A\u001b[2K\u001b[4A\u001b[2K\u001b[5A\u001b[2K\u001b[4A\u001b[2K\u001b[5A\u001b[2K\u001b[4A\u001b[2K\u001b[5A\u001b[2K\u001b[4A\u001b[2K\u001b[5A\u001b[2K\u001b[4A\u001b[2K\u001b[5A\u001b[2K\u001b[4A\u001b[2K\u001b[5A\u001b[2K\u001b[4A\u001b[2K\u001b[5A\u001b[2K\u001b[4A\u001b[2K\u001b[5A\u001b[2K\u001b[5A\u001b[2K\u001b[4A\u001b[2K\u001b[5A\u001b[2K\u001b[4A\u001b[2K\u001b[5A\u001b[2K\u001b[5A\u001b[2K\u001b[5A\u001b[2K\u001b[4A\u001b[2K\u001b[4A\u001b[2K\u001b[4A\u001b[2K\u001b[5A\u001b[2K\u001b[5A\u001b[2K\u001b[5A\u001b[2K\u001b[4A\u001b[2K\u001b[5A\u001b[2K\u001b[5A\u001b[2K\u001b[4A\u001b[2K\u001b[5A\u001b[2K\u001b[4A\u001b[2K\u001b[5A\u001b[2K\u001b[4A\u001b[2K\u001b[5A\u001b[2K\u001b[5A\u001b[2K\u001b[5A\u001b[2K\u001b[4A\u001b[2K\u001b[5A\u001b[2K\u001b[4A\u001b[2K\u001b[5A\u001b[2K\u001b[4A\u001b[2K\u001b[4A\u001b[2KDownloading  57.64MB/85.73MB\u001b[4A\u001b[2K\u001b[4A\u001b[2K\u001b[5A\u001b[2K\u001b[4A\u001b[2K\u001b[5A\u001b[2K\u001b[4A\u001b[2K\u001b[5A\u001b[2K\u001b[5A\u001b[2K\u001b[4A\u001b[2K\u001b[5A\u001b[2K\u001b[4A\u001b[2K\u001b[5A\u001b[2K\u001b[4A\u001b[2K\u001b[5A\u001b[2K\u001b[4A\u001b[2K\u001b[5A\u001b[2K\u001b[5A\u001b[2K\u001b[4A\u001b[2K\u001b[4A\u001b[2K\u001b[5A\u001b[2K\u001b[5A\u001b[2K\u001b[5A\u001b[2K\u001b[4A\u001b[2K\u001b[5A\u001b[2K\u001b[4A\u001b[2K\u001b[5A\u001b[2K\u001b[4A\u001b[2K\u001b[5A\u001b[2K\u001b[4A\u001b[2K\u001b[5A\u001b[2K\u001b[4A\u001b[2K\u001b[5A\u001b[2K\u001b[4A\u001b[2K\u001b[5A\u001b[2K\u001b[4A\u001b[2K\u001b[5A\u001b[2K\u001b[4A\u001b[2K\u001b[5A\u001b[2K\u001b[4A\u001b[2K\u001b[5A\u001b[2K\u001b[4A\u001b[2K\u001b[4A\u001b[2K\u001b[4A\u001b[2K\u001b[5A\u001b[2K\u001b[4A\u001b[2K\u001b[5A\u001b[2K\u001b[4A\u001b[2K\u001b[5A\u001b[2K\u001b[4A\u001b[2K\u001b[4A\u001b[2K\u001b[5A\u001b[2K\u001b[4A\u001b[2K\u001b[5A\u001b[2K\u001b[4A\u001b[2K\u001b[5A\u001b[2K\u001b[5A\u001b[2K\u001b[5A\u001b[2K\u001b[4A\u001b[2K\u001b[5A\u001b[2K\u001b[4A\u001b[2K\u001b[5A\u001b[2K\u001b[4A\u001b[2K\u001b[5A\u001b[2K\u001b[5A\u001b[2K\u001b[5A\u001b[2K\u001b[5A\u001b[2K\u001b[5A\u001b[2K\u001b[5A\u001b[2K\u001b[5A\u001b[2K\u001b[5A\u001b[2K\u001b[5A\u001b[2K\u001b[5A\u001b[2K\u001b[5A\u001b[2K\u001b[5A\u001b[2K\u001b[5A\u001b[2K\u001b[5A\u001b[2K\u001b[5A\u001b[2K\u001b[5A\u001b[2K\u001b[5A\u001b[2K\u001b[5A\u001b[2K\u001b[5A\u001b[2K\u001b[5A\u001b[2K\u001b[5A\u001b[2K\u001b[5A\u001b[2K\u001b[5A\u001b[2K\u001b[5A\u001b[2K\u001b[5A\u001b[2K\u001b[5A\u001b[2K\u001b[5A\u001b[2K\u001b[5A\u001b[2K\u001b[5A\u001b[2K\u001b[5A\u001b[2K\u001b[5A\u001b[2K\u001b[5A\u001b[2KExtracting  77.99MB/85.73MB\u001b[5A\u001b[2K\u001b[5A\u001b[2K\u001b[5A\u001b[2K\u001b[5A\u001b[2K\u001b[5A\u001b[2K\u001b[5A\u001b[2K\u001b[4A\u001b[2K\u001b[4A\u001b[2K\u001b[4A\u001b[2K\u001b[4A\u001b[2K\u001b[4A\u001b[2K\u001b[4A\u001b[2K\u001b[4A\u001b[2K\u001b[4A\u001b[2K\u001b[4A\u001b[2K\u001b[4A\u001b[2K\u001b[4A\u001b[2K\u001b[4A\u001b[2K\u001b[4A\u001b[2K\u001b[4A\u001b[2K\u001b[4A\u001b[2K\u001b[4A\u001b[2K\u001b[4A\u001b[2K\u001b[4A\u001b[2K\u001b[4A\u001b[2K\u001b[4A\u001b[2K\u001b[4A\u001b[2K\u001b[4A\u001b[2K\u001b[4A\u001b[2K\u001b[4A\u001b[2K\u001b[4A\u001b[2K\u001b[4A\u001b[2K\u001b[4A\u001b[2K\u001b[4A\u001b[2K\u001b[4A\u001b[2K\u001b[4A\u001b[2K\u001b[4A\u001b[2K\u001b[4A\u001b[2K\u001b[4A\u001b[2K\u001b[4A\u001b[2K\u001b[4A\u001b[2K\u001b[4A\u001b[2K\u001b[4A\u001b[2K\u001b[4A\u001b[2K\u001b[4A\u001b[2K\u001b[4A\u001b[2K\u001b[4A\u001b[2K\u001b[4A\u001b[2K\u001b[4A\u001b[2K\u001b[3A\u001b[2K\u001b[2A\u001b[2K\u001b[1A\u001b[2K\n",
            "Status: Downloaded newer image for jupyter/base-notebook:latest\n",
            "docker.io/jupyter/base-notebook:latest\n"
          ]
        }
      ]
    },
    {
      "cell_type": "code",
      "metadata": {
        "id": "1a36c3b7",
        "outputId": "0e54d99e-2e37-42b8-8383-0e9b8bce15c7"
      },
      "source": [
        "!docker images"
      ],
      "id": "1a36c3b7",
      "execution_count": null,
      "outputs": [
        {
          "name": "stdout",
          "output_type": "stream",
          "text": [
            "REPOSITORY              TAG       IMAGE ID       CREATED        SIZE\r\n",
            "busybox                 latest    cabb9f684f8b   22 hours ago   1.24MB\r\n",
            "jupyter/base-notebook   latest    30e4ff899b39   3 days ago     670MB\r\n",
            "jupyter/base-notebook   <none>    f14b646c836f   2 weeks ago    668MB\r\n",
            "ubuntu                  latest    597ce1600cf4   3 weeks ago    72.8MB\r\n",
            "mysql                   5.7.35    9f35042c6a98   4 weeks ago    448MB\r\n",
            "hello-world             latest    feb5d9fea6a5   4 weeks ago    13.3kB\r\n",
            "busybox                 <none>    16ea53ea7c65   6 weeks ago    1.24MB\r\n"
          ]
        }
      ]
    },
    {
      "cell_type": "code",
      "metadata": {
        "id": "c6661117",
        "outputId": "339c7b39-1f24-4c24-dfb7-ed22d21d2cdc"
      },
      "source": [
        "!docker run -p 8888:8888 jupyter/base-notebook"
      ],
      "id": "c6661117",
      "execution_count": null,
      "outputs": [
        {
          "name": "stdout",
          "output_type": "stream",
          "text": [
            "WARN: Jupyter Notebook deprecation notice https://github.com/jupyter/docker-stacks#jupyter-notebook-deprecation-notice.\n",
            "Executing the command: jupyter notebook\n",
            "[I 15:27:14.339 NotebookApp] Writing notebook server cookie secret to /home/jovyan/.local/share/jupyter/runtime/notebook_cookie_secret\n",
            "[W 2021-10-28 15:27:15.227 LabApp] 'ip' has moved from NotebookApp to ServerApp. This config will be passed to ServerApp. Be sure to update your config before our next release.\n",
            "[W 2021-10-28 15:27:15.227 LabApp] 'port' has moved from NotebookApp to ServerApp. This config will be passed to ServerApp. Be sure to update your config before our next release.\n",
            "[W 2021-10-28 15:27:15.227 LabApp] 'port' has moved from NotebookApp to ServerApp. This config will be passed to ServerApp. Be sure to update your config before our next release.\n",
            "[W 2021-10-28 15:27:15.227 LabApp] 'port' has moved from NotebookApp to ServerApp. This config will be passed to ServerApp. Be sure to update your config before our next release.\n",
            "[I 2021-10-28 15:27:15.240 LabApp] JupyterLab extension loaded from /opt/conda/lib/python3.9/site-packages/jupyterlab\n",
            "[I 2021-10-28 15:27:15.240 LabApp] JupyterLab application directory is /opt/conda/share/jupyter/lab\n",
            "[I 15:27:15.248 NotebookApp] Serving notebooks from local directory: /home/jovyan\n",
            "[I 15:27:15.248 NotebookApp] Jupyter Notebook 6.4.5 is running at:\n",
            "[I 15:27:15.248 NotebookApp] http://db9c7c5ae091:8888/?token=f7b6b32307a5de8cb151424d08f024292af81a5b0f53a087\n",
            "[I 15:27:15.248 NotebookApp]  or http://127.0.0.1:8888/?token=f7b6b32307a5de8cb151424d08f024292af81a5b0f53a087\n",
            "[I 15:27:15.248 NotebookApp] Use Control-C to stop this server and shut down all kernels (twice to skip confirmation).\n",
            "[C 15:27:15.255 NotebookApp] \n",
            "    \n",
            "    To access the notebook, open this file in a browser:\n",
            "        file:///home/jovyan/.local/share/jupyter/runtime/nbserver-7-open.html\n",
            "    Or copy and paste one of these URLs:\n",
            "        http://db9c7c5ae091:8888/?token=f7b6b32307a5de8cb151424d08f024292af81a5b0f53a087\n",
            "     or http://127.0.0.1:8888/?token=f7b6b32307a5de8cb151424d08f024292af81a5b0f53a087\n",
            "[I 15:27:20.602 NotebookApp] 302 GET /?token=f7b6b32307a5de8cb151424d08f024292af81a5b0f53a087 (172.17.0.1) 0.950000ms\n",
            "[I 15:27:34.911 NotebookApp] Creating new notebook in /work\n",
            "[I 15:27:34.928 NotebookApp] Writing notebook-signing key to /home/jovyan/.local/share/jupyter/notebook_secret\n",
            "Exception in callback <TaskWakeupMethWrapper object at 0x7fbf5fb77e80>(<Future finis...igin\\r\\n\\r\\n'>)\n",
            "handle: <Handle <TaskWakeupMethWrapper object at 0x7fbf5fb77e80>(<Future finis...igin\\r\\n\\r\\n'>)>\n",
            "Traceback (most recent call last):\n",
            "  File \"/opt/conda/lib/python3.9/asyncio/events.py\", line 80, in _run\n",
            "    self._context.run(self._callback, *self._args)\n",
            "RuntimeError: Cannot enter into task <Task pending name='Task-12' coro=<HTTP1ServerConnection._server_request_loop() running at /opt/conda/lib/python3.9/site-packages/tornado/http1connection.py:823> wait_for=<Future finished result=b'GET /kernel...rigin\\r\\n\\r\\n'> cb=[IOLoop.add_future.<locals>.<lambda>() at /opt/conda/lib/python3.9/site-packages/tornado/ioloop.py:688]> while another task <Task pending name='Task-2' coro=<KernelManager._async_start_kernel() running at /opt/conda/lib/python3.9/site-packages/jupyter_client/manager.py:332>> is being executed.\n",
            "Exception in callback <TaskWakeupMethWrapper object at 0x7fbf5fb77310>(<Future finis...igin\\r\\n\\r\\n'>)\n",
            "handle: <Handle <TaskWakeupMethWrapper object at 0x7fbf5fb77310>(<Future finis...igin\\r\\n\\r\\n'>)>\n",
            "Traceback (most recent call last):\n",
            "  File \"/opt/conda/lib/python3.9/asyncio/events.py\", line 80, in _run\n",
            "    self._context.run(self._callback, *self._args)\n",
            "RuntimeError: Cannot enter into task <Task pending name='Task-23' coro=<HTTP1ServerConnection._server_request_loop() running at /opt/conda/lib/python3.9/site-packages/tornado/http1connection.py:823> wait_for=<Future finished result=b'GET /api/co...rigin\\r\\n\\r\\n'> cb=[IOLoop.add_future.<locals>.<lambda>() at /opt/conda/lib/python3.9/site-packages/tornado/ioloop.py:688]> while another task <Task pending name='Task-2' coro=<KernelManager._async_start_kernel() running at /opt/conda/lib/python3.9/site-packages/jupyter_client/manager.py:337>> is being executed.\n",
            "Exception in callback <TaskWakeupMethWrapper object at 0x7fbf5fb77040>(<Future finis...igin\\r\\n\\r\\n'>)\n",
            "handle: <Handle <TaskWakeupMethWrapper object at 0x7fbf5fb77040>(<Future finis...igin\\r\\n\\r\\n'>)>\n",
            "Traceback (most recent call last):\n",
            "  File \"/opt/conda/lib/python3.9/asyncio/events.py\", line 80, in _run\n",
            "    self._context.run(self._callback, *self._args)\n",
            "RuntimeError: Cannot enter into task <Task pending name='Task-1' coro=<HTTP1ServerConnection._server_request_loop() running at /opt/conda/lib/python3.9/site-packages/tornado/http1connection.py:823> wait_for=<Future finished result=b'GET /static...rigin\\r\\n\\r\\n'> cb=[IOLoop.add_future.<locals>.<lambda>() at /opt/conda/lib/python3.9/site-packages/tornado/ioloop.py:688]> while another task <Task pending name='Task-1' coro=<MultiKernelManager._async_start_kernel() running at /opt/conda/lib/python3.9/site-packages/jupyter_client/multikernelmanager.py:186>> is being executed.\n",
            "[I 15:27:36.287 NotebookApp] Kernel started: 26ce54bb-852b-438e-8eff-21ced25a6b27, name: python3\n",
            "[W 15:27:36.316 NotebookApp] 404 GET /nbextensions/widgets/notebook/js/extension.js?v=20211028152714 (172.17.0.1) 24.210000ms referer=http://127.0.0.1:8888/notebooks/work/Untitled.ipynb?kernel_name=python3\n",
            "[I 15:28:11.779 NotebookApp] Saving file at /work/Jupyter_Docker.ipynb\n",
            "[I 15:28:49.071 NotebookApp] Saving file at /work/Jupyter_Docker.ipynb\n",
            "[W 15:28:53.697 NotebookApp] Notebook work/Jupyter_Docker.ipynb is not trusted\n",
            "[I 15:29:09.214 NotebookApp] Starting buffering for 26ce54bb-852b-438e-8eff-21ced25a6b27:75fd146d82d84026aa198c14e995c168\n",
            "[I 15:29:09.219 NotebookApp] Kernel shutdown: 26ce54bb-852b-438e-8eff-21ced25a6b27\n",
            "[I 15:29:12.375 NotebookApp] Shutting down on /api/shutdown request.\n",
            "[I 15:29:12.376 NotebookApp] Shutting down 0 kernels\n",
            "[I 15:29:12.376 NotebookApp] Shutting down 0 terminals\n"
          ]
        }
      ]
    },
    {
      "cell_type": "markdown",
      "metadata": {
        "id": "MDKdJJwtOPgE"
      },
      "source": [
        "## Crear una red virtual para los contenedores"
      ],
      "id": "MDKdJJwtOPgE"
    },
    {
      "cell_type": "code",
      "metadata": {
        "id": "bc9b59c8",
        "outputId": "16f33aaa-80af-4e99-a468-27635a1ef136"
      },
      "source": [
        "!docker network create --driver bridge my_test_network1"
      ],
      "id": "bc9b59c8",
      "execution_count": null,
      "outputs": [
        {
          "name": "stdout",
          "output_type": "stream",
          "text": [
            "e3c6e10324e649e36682539b2647b2a25e52dbe1d48b5df2472964f11a718413\r\n"
          ]
        }
      ]
    },
    {
      "cell_type": "markdown",
      "metadata": {
        "id": "Xkd29kUUOfwx"
      },
      "source": [
        "## MYSQL en contenedor dentro de red virtual"
      ],
      "id": "Xkd29kUUOfwx"
    },
    {
      "cell_type": "code",
      "metadata": {
        "id": "68096fae",
        "outputId": "7f80c90a-9cce-4f0b-c26b-254cdfab234d"
      },
      "source": [
        "!docker run -it --network my_test_network1 -e \"MYSQL_ROOT_PASSWORD=root123\" -e \"MYSQL_DATABASE=test\" -e \"MYSQL_USER=test\" -e \"MYSQL_PASSWORD=test123\" mysql:5.7.35"
      ],
      "id": "68096fae",
      "execution_count": null,
      "outputs": [
        {
          "name": "stdout",
          "output_type": "stream",
          "text": [
            "2021-10-28 15:33:07+00:00 [Note] [Entrypoint]: Entrypoint script for MySQL Server 5.7.35-1debian10 started.\n",
            "2021-10-28 15:33:07+00:00 [Note] [Entrypoint]: Switching to dedicated user 'mysql'\n",
            "2021-10-28 15:33:08+00:00 [Note] [Entrypoint]: Entrypoint script for MySQL Server 5.7.35-1debian10 started.\n",
            "2021-10-28 15:33:08+00:00 [Note] [Entrypoint]: Initializing database files\n",
            "2021-10-28T15:33:08.130976Z 0 [Warning] TIMESTAMP with implicit DEFAULT value is deprecated. Please use --explicit_defaults_for_timestamp server option (see documentation for more details).\n",
            "2021-10-28T15:33:08.500468Z 0 [Warning] InnoDB: New log files created, LSN=45790\n",
            "2021-10-28T15:33:08.571657Z 0 [Warning] InnoDB: Creating foreign key constraint system tables.\n",
            "2021-10-28T15:33:08.634771Z 0 [Warning] No existing UUID has been found, so we assume that this is the first time that this server has been started. Generating a new UUID: 5a38ecca-3804-11ec-89ce-0242ac140002.\n",
            "2021-10-28T15:33:08.642511Z 0 [Warning] Gtid table is not ready to be used. Table 'mysql.gtid_executed' cannot be opened.\n",
            "2021-10-28T15:33:09.575383Z 0 [Warning] A deprecated TLS version TLSv1 is enabled. Please use TLSv1.2 or higher.\n",
            "2021-10-28T15:33:09.575412Z 0 [Warning] A deprecated TLS version TLSv1.1 is enabled. Please use TLSv1.2 or higher.\n",
            "2021-10-28T15:33:09.576018Z 0 [Warning] CA certificate ca.pem is self signed.\n",
            "2021-10-28T15:33:09.727655Z 1 [Warning] root@localhost is created with an empty password ! Please consider switching off the --initialize-insecure option.\n",
            "2021-10-28 15:33:12+00:00 [Note] [Entrypoint]: Database files initialized\n",
            "2021-10-28 15:33:12+00:00 [Note] [Entrypoint]: Starting temporary server\n",
            "2021-10-28 15:33:12+00:00 [Note] [Entrypoint]: Waiting for server startup\n",
            "2021-10-28T15:33:12.851188Z 0 [Warning] TIMESTAMP with implicit DEFAULT value is deprecated. Please use --explicit_defaults_for_timestamp server option (see documentation for more details).\n",
            "2021-10-28T15:33:12.860133Z 0 [Note] mysqld (mysqld 5.7.35) starting as process 78 ...\n",
            "2021-10-28T15:33:12.867912Z 0 [Note] InnoDB: PUNCH HOLE support available\n",
            "2021-10-28T15:33:12.867942Z 0 [Note] InnoDB: Mutexes and rw_locks use GCC atomic builtins\n",
            "2021-10-28T15:33:12.867947Z 0 [Note] InnoDB: Uses event mutexes\n",
            "2021-10-28T15:33:12.867951Z 0 [Note] InnoDB: GCC builtin __atomic_thread_fence() is used for memory barrier\n",
            "2021-10-28T15:33:12.867955Z 0 [Note] InnoDB: Compressed tables use zlib 1.2.11\n",
            "2021-10-28T15:33:12.868009Z 0 [Note] InnoDB: Using Linux native AIO\n",
            "2021-10-28T15:33:12.869092Z 0 [Note] InnoDB: Number of pools: 1\n",
            "2021-10-28T15:33:12.869594Z 0 [Note] InnoDB: Using CPU crc32 instructions\n",
            "2021-10-28T15:33:12.876485Z 0 [Note] InnoDB: Initializing buffer pool, total size = 128M, instances = 1, chunk size = 128M\n",
            "2021-10-28T15:33:12.913768Z 0 [Note] InnoDB: Completed initialization of buffer pool\n",
            "2021-10-28T15:33:12.926146Z 0 [Note] InnoDB: If the mysqld execution user is authorized, page cleaner thread priority can be changed. See the man page of setpriority().\n",
            "2021-10-28T15:33:12.945540Z 0 [Note] InnoDB: Highest supported file format is Barracuda.\n",
            "2021-10-28T15:33:12.966129Z 0 [Note] InnoDB: Creating shared tablespace for temporary tables\n",
            "2021-10-28T15:33:12.966270Z 0 [Note] InnoDB: Setting file './ibtmp1' size to 12 MB. Physically writing the file full; Please wait ...\n",
            "2021-10-28T15:33:13.039739Z 0 [Note] InnoDB: File './ibtmp1' size is now 12 MB.\n",
            "2021-10-28T15:33:13.041797Z 0 [Note] InnoDB: 96 redo rollback segment(s) found. 96 redo rollback segment(s) are active.\n",
            "2021-10-28T15:33:13.041866Z 0 [Note] InnoDB: 32 non-redo rollback segment(s) are active.\n",
            "2021-10-28T15:33:13.042829Z 0 [Note] InnoDB: Waiting for purge to start\n",
            "2021-10-28T15:33:13.094169Z 0 [Note] InnoDB: 5.7.35 started; log sequence number 2748441\n",
            "2021-10-28T15:33:13.094622Z 0 [Note] InnoDB: Loading buffer pool(s) from /var/lib/mysql/ib_buffer_pool\n",
            "2021-10-28T15:33:13.095255Z 0 [Note] Plugin 'FEDERATED' is disabled.\n",
            "2021-10-28T15:33:13.098764Z 0 [Note] InnoDB: Buffer pool(s) load completed at 211028 15:33:13\n",
            "2021-10-28T15:33:13.133704Z 0 [Note] Found ca.pem, server-cert.pem and server-key.pem in data directory. Trying to enable SSL support using them.\n",
            "2021-10-28T15:33:13.133765Z 0 [Note] Skipping generation of SSL certificates as certificate files are present in data directory.\n",
            "2021-10-28T15:33:13.133784Z 0 [Warning] A deprecated TLS version TLSv1 is enabled. Please use TLSv1.2 or higher.\n",
            "2021-10-28T15:33:13.133799Z 0 [Warning] A deprecated TLS version TLSv1.1 is enabled. Please use TLSv1.2 or higher.\n",
            "2021-10-28T15:33:13.134768Z 0 [Warning] CA certificate ca.pem is self signed.\n",
            "2021-10-28T15:33:13.134835Z 0 [Note] Skipping generation of RSA key pair as key files are present in data directory.\n",
            "2021-10-28T15:33:13.138555Z 0 [Warning] Insecure configuration for --pid-file: Location '/var/run/mysqld' in the path is accessible to all OS users. Consider choosing a different directory.\n",
            "2021-10-28T15:33:13.151038Z 0 [Note] Event Scheduler: Loaded 0 events\n",
            "2021-10-28T15:33:13.151837Z 0 [Note] mysqld: ready for connections.\n",
            "Version: '5.7.35'  socket: '/var/run/mysqld/mysqld.sock'  port: 0  MySQL Community Server (GPL)\n",
            "2021-10-28 15:33:13+00:00 [Note] [Entrypoint]: Temporary server started.\n",
            "Warning: Unable to load '/usr/share/zoneinfo/iso3166.tab' as time zone. Skipping it.\n",
            "Warning: Unable to load '/usr/share/zoneinfo/leap-seconds.list' as time zone. Skipping it.\n",
            "Warning: Unable to load '/usr/share/zoneinfo/zone.tab' as time zone. Skipping it.\n",
            "Warning: Unable to load '/usr/share/zoneinfo/zone1970.tab' as time zone. Skipping it.\n",
            "2021-10-28 15:33:15+00:00 [Note] [Entrypoint]: Creating database test\n",
            "2021-10-28 15:33:15+00:00 [Note] [Entrypoint]: Creating user test\n",
            "2021-10-28 15:33:15+00:00 [Note] [Entrypoint]: Giving user test access to schema test\n",
            "\n",
            "2021-10-28 15:33:15+00:00 [Note] [Entrypoint]: Stopping temporary server\n",
            "2021-10-28T15:33:15.746379Z 0 [Note] Giving 0 client threads a chance to die gracefully\n",
            "2021-10-28T15:33:15.746416Z 0 [Note] Shutting down slave threads\n",
            "2021-10-28T15:33:15.746421Z 0 [Note] Forcefully disconnecting 0 remaining clients\n",
            "2021-10-28T15:33:15.746432Z 0 [Note] Event Scheduler: Purging the queue. 0 events\n",
            "2021-10-28T15:33:15.746487Z 0 [Note] Binlog end\n",
            "2021-10-28T15:33:15.747335Z 0 [Note] Shutting down plugin 'ngram'\n",
            "2021-10-28T15:33:15.747352Z 0 [Note] Shutting down plugin 'partition'\n",
            "2021-10-28T15:33:15.747358Z 0 [Note] Shutting down plugin 'BLACKHOLE'\n",
            "2021-10-28T15:33:15.747363Z 0 [Note] Shutting down plugin 'ARCHIVE'\n",
            "2021-10-28T15:33:15.747368Z 0 [Note] Shutting down plugin 'PERFORMANCE_SCHEMA'\n",
            "2021-10-28T15:33:15.747408Z 0 [Note] Shutting down plugin 'MRG_MYISAM'\n",
            "2021-10-28T15:33:15.747413Z 0 [Note] Shutting down plugin 'MyISAM'\n",
            "2021-10-28T15:33:15.747427Z 0 [Note] Shutting down plugin 'INNODB_SYS_VIRTUAL'\n",
            "2021-10-28T15:33:15.747432Z 0 [Note] Shutting down plugin 'INNODB_SYS_DATAFILES'\n",
            "2021-10-28T15:33:15.747437Z 0 [Note] Shutting down plugin 'INNODB_SYS_TABLESPACES'\n",
            "2021-10-28T15:33:15.747441Z 0 [Note] Shutting down plugin 'INNODB_SYS_FOREIGN_COLS'\n",
            "2021-10-28T15:33:15.747445Z 0 [Note] Shutting down plugin 'INNODB_SYS_FOREIGN'\n",
            "2021-10-28T15:33:15.747449Z 0 [Note] Shutting down plugin 'INNODB_SYS_FIELDS'\n",
            "2021-10-28T15:33:15.747453Z 0 [Note] Shutting down plugin 'INNODB_SYS_COLUMNS'\n",
            "2021-10-28T15:33:15.747457Z 0 [Note] Shutting down plugin 'INNODB_SYS_INDEXES'\n",
            "2021-10-28T15:33:15.747461Z 0 [Note] Shutting down plugin 'INNODB_SYS_TABLESTATS'\n",
            "2021-10-28T15:33:15.747465Z 0 [Note] Shutting down plugin 'INNODB_SYS_TABLES'\n",
            "2021-10-28T15:33:15.747469Z 0 [Note] Shutting down plugin 'INNODB_FT_INDEX_TABLE'\n",
            "2021-10-28T15:33:15.747473Z 0 [Note] Shutting down plugin 'INNODB_FT_INDEX_CACHE'\n",
            "2021-10-28T15:33:15.747477Z 0 [Note] Shutting down plugin 'INNODB_FT_CONFIG'\n",
            "2021-10-28T15:33:15.747481Z 0 [Note] Shutting down plugin 'INNODB_FT_BEING_DELETED'\n",
            "2021-10-28T15:33:15.747485Z 0 [Note] Shutting down plugin 'INNODB_FT_DELETED'\n",
            "2021-10-28T15:33:15.747489Z 0 [Note] Shutting down plugin 'INNODB_FT_DEFAULT_STOPWORD'\n",
            "2021-10-28T15:33:15.747493Z 0 [Note] Shutting down plugin 'INNODB_METRICS'\n",
            "2021-10-28T15:33:15.747497Z 0 [Note] Shutting down plugin 'INNODB_TEMP_TABLE_INFO'\n",
            "2021-10-28T15:33:15.747502Z 0 [Note] Shutting down plugin 'INNODB_BUFFER_POOL_STATS'\n",
            "2021-10-28T15:33:15.747507Z 0 [Note] Shutting down plugin 'INNODB_BUFFER_PAGE_LRU'\n",
            "2021-10-28T15:33:15.747512Z 0 [Note] Shutting down plugin 'INNODB_BUFFER_PAGE'\n",
            "2021-10-28T15:33:15.747516Z 0 [Note] Shutting down plugin 'INNODB_CMP_PER_INDEX_RESET'\n",
            "2021-10-28T15:33:15.747521Z 0 [Note] Shutting down plugin 'INNODB_CMP_PER_INDEX'\n",
            "2021-10-28T15:33:15.747525Z 0 [Note] Shutting down plugin 'INNODB_CMPMEM_RESET'\n",
            "2021-10-28T15:33:15.747529Z 0 [Note] Shutting down plugin 'INNODB_CMPMEM'\n",
            "2021-10-28T15:33:15.747533Z 0 [Note] Shutting down plugin 'INNODB_CMP_RESET'\n",
            "2021-10-28T15:33:15.747537Z 0 [Note] Shutting down plugin 'INNODB_CMP'\n",
            "2021-10-28T15:33:15.747541Z 0 [Note] Shutting down plugin 'INNODB_LOCK_WAITS'\n",
            "2021-10-28T15:33:15.747545Z 0 [Note] Shutting down plugin 'INNODB_LOCKS'\n",
            "2021-10-28T15:33:15.747549Z 0 [Note] Shutting down plugin 'INNODB_TRX'\n",
            "2021-10-28T15:33:15.747554Z 0 [Note] Shutting down plugin 'InnoDB'\n",
            "2021-10-28T15:33:15.747638Z 0 [Note] InnoDB: FTS optimize thread exiting.\n",
            "2021-10-28T15:33:15.747898Z 0 [Note] InnoDB: Starting shutdown...\n",
            "2021-10-28T15:33:15.848127Z 0 [Note] InnoDB: Dumping buffer pool(s) to /var/lib/mysql/ib_buffer_pool\n",
            "2021-10-28T15:33:15.848419Z 0 [Note] InnoDB: Buffer pool(s) dump completed at 211028 15:33:15\n",
            "2021-10-28T15:33:16.959154Z 0 [Note] InnoDB: Shutdown completed; log sequence number 12665723\n",
            "2021-10-28T15:33:16.961338Z 0 [Note] InnoDB: Removed temporary tablespace data file: \"ibtmp1\"\n",
            "2021-10-28T15:33:16.961373Z 0 [Note] Shutting down plugin 'MEMORY'\n",
            "2021-10-28T15:33:16.961380Z 0 [Note] Shutting down plugin 'CSV'\n",
            "2021-10-28T15:33:16.961403Z 0 [Note] Shutting down plugin 'sha256_password'\n",
            "2021-10-28T15:33:16.961418Z 0 [Note] Shutting down plugin 'mysql_native_password'\n",
            "2021-10-28T15:33:16.961579Z 0 [Note] Shutting down plugin 'binlog'\n",
            "2021-10-28T15:33:16.963742Z 0 [Note] mysqld: Shutdown complete\n",
            "\n",
            "2021-10-28 15:33:17+00:00 [Note] [Entrypoint]: Temporary server stopped\n",
            "\n",
            "2021-10-28 15:33:17+00:00 [Note] [Entrypoint]: MySQL init process done. Ready for start up.\n",
            "\n",
            "2021-10-28T15:33:17.968090Z 0 [Warning] TIMESTAMP with implicit DEFAULT value is deprecated. Please use --explicit_defaults_for_timestamp server option (see documentation for more details).\n",
            "2021-10-28T15:33:17.970039Z 0 [Note] mysqld (mysqld 5.7.35) starting as process 1 ...\n",
            "2021-10-28T15:33:17.973090Z 0 [Note] InnoDB: PUNCH HOLE support available\n",
            "2021-10-28T15:33:17.973117Z 0 [Note] InnoDB: Mutexes and rw_locks use GCC atomic builtins\n",
            "2021-10-28T15:33:17.973121Z 0 [Note] InnoDB: Uses event mutexes\n",
            "2021-10-28T15:33:17.973125Z 0 [Note] InnoDB: GCC builtin __atomic_thread_fence() is used for memory barrier\n",
            "2021-10-28T15:33:17.973129Z 0 [Note] InnoDB: Compressed tables use zlib 1.2.11\n",
            "2021-10-28T15:33:17.973138Z 0 [Note] InnoDB: Using Linux native AIO\n",
            "2021-10-28T15:33:17.973386Z 0 [Note] InnoDB: Number of pools: 1\n",
            "2021-10-28T15:33:17.973499Z 0 [Note] InnoDB: Using CPU crc32 instructions\n",
            "2021-10-28T15:33:17.975488Z 0 [Note] InnoDB: Initializing buffer pool, total size = 128M, instances = 1, chunk size = 128M\n",
            "2021-10-28T15:33:17.984907Z 0 [Note] InnoDB: Completed initialization of buffer pool\n",
            "2021-10-28T15:33:17.987485Z 0 [Note] InnoDB: If the mysqld execution user is authorized, page cleaner thread priority can be changed. See the man page of setpriority().\n",
            "2021-10-28T15:33:17.999667Z 0 [Note] InnoDB: Highest supported file format is Barracuda.\n",
            "2021-10-28T15:33:18.009498Z 0 [Note] InnoDB: Creating shared tablespace for temporary tables\n",
            "2021-10-28T15:33:18.009580Z 0 [Note] InnoDB: Setting file './ibtmp1' size to 12 MB. Physically writing the file full; Please wait ...\n",
            "2021-10-28T15:33:18.046355Z 0 [Note] InnoDB: File './ibtmp1' size is now 12 MB.\n",
            "2021-10-28T15:33:18.047096Z 0 [Note] InnoDB: 96 redo rollback segment(s) found. 96 redo rollback segment(s) are active.\n",
            "2021-10-28T15:33:18.047114Z 0 [Note] InnoDB: 32 non-redo rollback segment(s) are active.\n",
            "2021-10-28T15:33:18.047767Z 0 [Note] InnoDB: 5.7.35 started; log sequence number 12665723\n",
            "2021-10-28T15:33:18.047925Z 0 [Note] InnoDB: Loading buffer pool(s) from /var/lib/mysql/ib_buffer_pool\n",
            "2021-10-28T15:33:18.048186Z 0 [Note] Plugin 'FEDERATED' is disabled.\n",
            "2021-10-28T15:33:18.051502Z 0 [Note] InnoDB: Buffer pool(s) load completed at 211028 15:33:18\n",
            "2021-10-28T15:33:18.055281Z 0 [Note] Found ca.pem, server-cert.pem and server-key.pem in data directory. Trying to enable SSL support using them.\n",
            "2021-10-28T15:33:18.055303Z 0 [Note] Skipping generation of SSL certificates as certificate files are present in data directory.\n",
            "2021-10-28T15:33:18.055308Z 0 [Warning] A deprecated TLS version TLSv1 is enabled. Please use TLSv1.2 or higher.\n",
            "2021-10-28T15:33:18.055311Z 0 [Warning] A deprecated TLS version TLSv1.1 is enabled. Please use TLSv1.2 or higher.\n",
            "2021-10-28T15:33:18.055918Z 0 [Warning] CA certificate ca.pem is self signed.\n",
            "2021-10-28T15:33:18.055954Z 0 [Note] Skipping generation of RSA key pair as key files are present in data directory.\n",
            "2021-10-28T15:33:18.056637Z 0 [Note] Server hostname (bind-address): '*'; port: 3306\n",
            "2021-10-28T15:33:18.056722Z 0 [Note] IPv6 is available.\n",
            "2021-10-28T15:33:18.056753Z 0 [Note]   - '::' resolves to '::';\n",
            "2021-10-28T15:33:18.056778Z 0 [Note] Server socket created on IP: '::'.\n",
            "2021-10-28T15:33:18.059458Z 0 [Warning] Insecure configuration for --pid-file: Location '/var/run/mysqld' in the path is accessible to all OS users. Consider choosing a different directory.\n",
            "2021-10-28T15:33:18.068286Z 0 [Note] Event Scheduler: Loaded 0 events\n",
            "2021-10-28T15:33:18.068631Z 0 [Note] mysqld: ready for connections.\n",
            "Version: '5.7.35'  socket: '/var/run/mysqld/mysqld.sock'  port: 3306  MySQL Community Server (GPL)\n",
            "^C\n"
          ]
        }
      ]
    },
    {
      "cell_type": "code",
      "metadata": {
        "id": "aecb4109",
        "outputId": "9678275b-32cc-4ff4-8f68-e652f5fd8e0d"
      },
      "source": [
        "!docker run -it --network my_test_network1 -p 3306:3306 -e \"MYSQL_ROOT_PASSWORD=root123\" -e \"MYSQL_DATABASE=test\" -e \"MYSQL_USER=test\" -e \"MYSQL_PASSWORD=test123\" mysql:5.7.35"
      ],
      "id": "aecb4109",
      "execution_count": null,
      "outputs": [
        {
          "name": "stdout",
          "output_type": "stream",
          "text": [
            "2021-10-28 15:37:38+00:00 [Note] [Entrypoint]: Entrypoint script for MySQL Server 5.7.35-1debian10 started.\n",
            "2021-10-28 15:37:38+00:00 [Note] [Entrypoint]: Switching to dedicated user 'mysql'\n",
            "2021-10-28 15:37:38+00:00 [Note] [Entrypoint]: Entrypoint script for MySQL Server 5.7.35-1debian10 started.\n",
            "2021-10-28 15:37:39+00:00 [Note] [Entrypoint]: Initializing database files\n",
            "2021-10-28T15:37:39.069100Z 0 [Warning] TIMESTAMP with implicit DEFAULT value is deprecated. Please use --explicit_defaults_for_timestamp server option (see documentation for more details).\n",
            "2021-10-28T15:37:42.251555Z 0 [Warning] InnoDB: New log files created, LSN=45790\n",
            "2021-10-28T15:37:42.366251Z 0 [Warning] InnoDB: Creating foreign key constraint system tables.\n",
            "2021-10-28T15:37:42.391181Z 0 [Warning] No existing UUID has been found, so we assume that this is the first time that this server has been started. Generating a new UUID: fd64d723-3804-11ec-98eb-0242ac140002.\n",
            "2021-10-28T15:37:42.393984Z 0 [Warning] Gtid table is not ready to be used. Table 'mysql.gtid_executed' cannot be opened.\n",
            "2021-10-28T15:37:43.216289Z 0 [Warning] A deprecated TLS version TLSv1 is enabled. Please use TLSv1.2 or higher.\n",
            "2021-10-28T15:37:43.216318Z 0 [Warning] A deprecated TLS version TLSv1.1 is enabled. Please use TLSv1.2 or higher.\n",
            "2021-10-28T15:37:43.216899Z 0 [Warning] CA certificate ca.pem is self signed.\n",
            "2021-10-28T15:37:43.316118Z 1 [Warning] root@localhost is created with an empty password ! Please consider switching off the --initialize-insecure option.\n",
            "2021-10-28 15:37:46+00:00 [Note] [Entrypoint]: Database files initialized\n",
            "2021-10-28 15:37:46+00:00 [Note] [Entrypoint]: Starting temporary server\n",
            "2021-10-28 15:37:46+00:00 [Note] [Entrypoint]: Waiting for server startup\n",
            "2021-10-28T15:37:46.838256Z 0 [Warning] TIMESTAMP with implicit DEFAULT value is deprecated. Please use --explicit_defaults_for_timestamp server option (see documentation for more details).\n",
            "2021-10-28T15:37:46.847537Z 0 [Note] mysqld (mysqld 5.7.35) starting as process 77 ...\n",
            "2021-10-28T15:37:46.855016Z 0 [Note] InnoDB: PUNCH HOLE support available\n",
            "2021-10-28T15:37:46.855048Z 0 [Note] InnoDB: Mutexes and rw_locks use GCC atomic builtins\n",
            "2021-10-28T15:37:46.855053Z 0 [Note] InnoDB: Uses event mutexes\n",
            "2021-10-28T15:37:46.855057Z 0 [Note] InnoDB: GCC builtin __atomic_thread_fence() is used for memory barrier\n",
            "2021-10-28T15:37:46.855061Z 0 [Note] InnoDB: Compressed tables use zlib 1.2.11\n",
            "2021-10-28T15:37:46.855065Z 0 [Note] InnoDB: Using Linux native AIO\n",
            "2021-10-28T15:37:46.855716Z 0 [Note] InnoDB: Number of pools: 1\n",
            "2021-10-28T15:37:46.856063Z 0 [Note] InnoDB: Using CPU crc32 instructions\n",
            "2021-10-28T15:37:46.861491Z 0 [Note] InnoDB: Initializing buffer pool, total size = 128M, instances = 1, chunk size = 128M\n",
            "2021-10-28T15:37:46.886986Z 0 [Note] InnoDB: Completed initialization of buffer pool\n",
            "2021-10-28T15:37:46.895195Z 0 [Note] InnoDB: If the mysqld execution user is authorized, page cleaner thread priority can be changed. See the man page of setpriority().\n",
            "2021-10-28T15:37:46.909267Z 0 [Note] InnoDB: Highest supported file format is Barracuda.\n",
            "2021-10-28T15:37:46.924234Z 0 [Note] InnoDB: Creating shared tablespace for temporary tables\n",
            "2021-10-28T15:37:46.924318Z 0 [Note] InnoDB: Setting file './ibtmp1' size to 12 MB. Physically writing the file full; Please wait ...\n",
            "2021-10-28T15:37:46.988116Z 0 [Note] InnoDB: File './ibtmp1' size is now 12 MB.\n",
            "2021-10-28T15:37:46.988928Z 0 [Note] InnoDB: 96 redo rollback segment(s) found. 96 redo rollback segment(s) are active.\n",
            "2021-10-28T15:37:46.988950Z 0 [Note] InnoDB: 32 non-redo rollback segment(s) are active.\n",
            "2021-10-28T15:37:46.989736Z 0 [Note] InnoDB: Waiting for purge to start\n",
            "2021-10-28T15:37:47.039958Z 0 [Note] InnoDB: 5.7.35 started; log sequence number 2748441\n",
            "2021-10-28T15:37:47.040245Z 0 [Note] InnoDB: Loading buffer pool(s) from /var/lib/mysql/ib_buffer_pool\n",
            "2021-10-28T15:37:47.040542Z 0 [Note] Plugin 'FEDERATED' is disabled.\n",
            "2021-10-28T15:37:47.048076Z 0 [Note] InnoDB: Buffer pool(s) load completed at 211028 15:37:47\n",
            "2021-10-28T15:37:47.069206Z 0 [Note] Found ca.pem, server-cert.pem and server-key.pem in data directory. Trying to enable SSL support using them.\n",
            "2021-10-28T15:37:47.069238Z 0 [Note] Skipping generation of SSL certificates as certificate files are present in data directory.\n",
            "2021-10-28T15:37:47.069252Z 0 [Warning] A deprecated TLS version TLSv1 is enabled. Please use TLSv1.2 or higher.\n",
            "2021-10-28T15:37:47.069259Z 0 [Warning] A deprecated TLS version TLSv1.1 is enabled. Please use TLSv1.2 or higher.\n",
            "2021-10-28T15:37:47.069917Z 0 [Warning] CA certificate ca.pem is self signed.\n",
            "2021-10-28T15:37:47.069957Z 0 [Note] Skipping generation of RSA key pair as key files are present in data directory.\n",
            "2021-10-28T15:37:47.073390Z 0 [Warning] Insecure configuration for --pid-file: Location '/var/run/mysqld' in the path is accessible to all OS users. Consider choosing a different directory.\n",
            "2021-10-28T15:37:47.084794Z 0 [Note] Event Scheduler: Loaded 0 events\n",
            "2021-10-28T15:37:47.085332Z 0 [Note] mysqld: ready for connections.\n",
            "Version: '5.7.35'  socket: '/var/run/mysqld/mysqld.sock'  port: 0  MySQL Community Server (GPL)\n",
            "2021-10-28 15:37:47+00:00 [Note] [Entrypoint]: Temporary server started.\n",
            "Warning: Unable to load '/usr/share/zoneinfo/iso3166.tab' as time zone. Skipping it.\n",
            "Warning: Unable to load '/usr/share/zoneinfo/leap-seconds.list' as time zone. Skipping it.\n",
            "Warning: Unable to load '/usr/share/zoneinfo/zone.tab' as time zone. Skipping it.\n",
            "Warning: Unable to load '/usr/share/zoneinfo/zone1970.tab' as time zone. Skipping it.\n",
            "2021-10-28 15:37:49+00:00 [Note] [Entrypoint]: Creating database test\n",
            "2021-10-28 15:37:49+00:00 [Note] [Entrypoint]: Creating user test\n",
            "2021-10-28 15:37:49+00:00 [Note] [Entrypoint]: Giving user test access to schema test\n",
            "\n",
            "2021-10-28 15:37:49+00:00 [Note] [Entrypoint]: Stopping temporary server\n",
            "2021-10-28T15:37:49.747900Z 0 [Note] Giving 0 client threads a chance to die gracefully\n",
            "2021-10-28T15:37:49.747938Z 0 [Note] Shutting down slave threads\n",
            "2021-10-28T15:37:49.747943Z 0 [Note] Forcefully disconnecting 0 remaining clients\n",
            "2021-10-28T15:37:49.747949Z 0 [Note] Event Scheduler: Purging the queue. 0 events\n",
            "2021-10-28T15:37:49.748012Z 0 [Note] Binlog end\n",
            "2021-10-28T15:37:49.748814Z 0 [Note] Shutting down plugin 'ngram'\n",
            "2021-10-28T15:37:49.748837Z 0 [Note] Shutting down plugin 'partition'\n",
            "2021-10-28T15:37:49.748842Z 0 [Note] Shutting down plugin 'BLACKHOLE'\n",
            "2021-10-28T15:37:49.748846Z 0 [Note] Shutting down plugin 'ARCHIVE'\n",
            "2021-10-28T15:37:49.748848Z 0 [Note] Shutting down plugin 'PERFORMANCE_SCHEMA'\n",
            "2021-10-28T15:37:49.748885Z 0 [Note] Shutting down plugin 'MRG_MYISAM'\n",
            "2021-10-28T15:37:49.748899Z 0 [Note] Shutting down plugin 'MyISAM'\n",
            "2021-10-28T15:37:49.748908Z 0 [Note] Shutting down plugin 'INNODB_SYS_VIRTUAL'\n",
            "2021-10-28T15:37:49.748912Z 0 [Note] Shutting down plugin 'INNODB_SYS_DATAFILES'\n",
            "2021-10-28T15:37:49.748914Z 0 [Note] Shutting down plugin 'INNODB_SYS_TABLESPACES'\n",
            "2021-10-28T15:37:49.748917Z 0 [Note] Shutting down plugin 'INNODB_SYS_FOREIGN_COLS'\n",
            "2021-10-28T15:37:49.748920Z 0 [Note] Shutting down plugin 'INNODB_SYS_FOREIGN'\n",
            "2021-10-28T15:37:49.748923Z 0 [Note] Shutting down plugin 'INNODB_SYS_FIELDS'\n",
            "2021-10-28T15:37:49.748932Z 0 [Note] Shutting down plugin 'INNODB_SYS_COLUMNS'\n",
            "2021-10-28T15:37:49.748935Z 0 [Note] Shutting down plugin 'INNODB_SYS_INDEXES'\n",
            "2021-10-28T15:37:49.748938Z 0 [Note] Shutting down plugin 'INNODB_SYS_TABLESTATS'\n",
            "2021-10-28T15:37:49.748941Z 0 [Note] Shutting down plugin 'INNODB_SYS_TABLES'\n",
            "2021-10-28T15:37:49.748944Z 0 [Note] Shutting down plugin 'INNODB_FT_INDEX_TABLE'\n",
            "2021-10-28T15:37:49.748950Z 0 [Note] Shutting down plugin 'INNODB_FT_INDEX_CACHE'\n",
            "2021-10-28T15:37:49.748953Z 0 [Note] Shutting down plugin 'INNODB_FT_CONFIG'\n",
            "2021-10-28T15:37:49.748956Z 0 [Note] Shutting down plugin 'INNODB_FT_BEING_DELETED'\n",
            "2021-10-28T15:37:49.748959Z 0 [Note] Shutting down plugin 'INNODB_FT_DELETED'\n",
            "2021-10-28T15:37:49.748961Z 0 [Note] Shutting down plugin 'INNODB_FT_DEFAULT_STOPWORD'\n",
            "2021-10-28T15:37:49.748964Z 0 [Note] Shutting down plugin 'INNODB_METRICS'\n",
            "2021-10-28T15:37:49.748967Z 0 [Note] Shutting down plugin 'INNODB_TEMP_TABLE_INFO'\n",
            "2021-10-28T15:37:49.748969Z 0 [Note] Shutting down plugin 'INNODB_BUFFER_POOL_STATS'\n",
            "2021-10-28T15:37:49.748972Z 0 [Note] Shutting down plugin 'INNODB_BUFFER_PAGE_LRU'\n",
            "2021-10-28T15:37:49.748975Z 0 [Note] Shutting down plugin 'INNODB_BUFFER_PAGE'\n",
            "2021-10-28T15:37:49.748978Z 0 [Note] Shutting down plugin 'INNODB_CMP_PER_INDEX_RESET'\n",
            "2021-10-28T15:37:49.748981Z 0 [Note] Shutting down plugin 'INNODB_CMP_PER_INDEX'\n",
            "2021-10-28T15:37:49.748983Z 0 [Note] Shutting down plugin 'INNODB_CMPMEM_RESET'\n",
            "2021-10-28T15:37:49.748986Z 0 [Note] Shutting down plugin 'INNODB_CMPMEM'\n",
            "2021-10-28T15:37:49.748989Z 0 [Note] Shutting down plugin 'INNODB_CMP_RESET'\n",
            "2021-10-28T15:37:49.748992Z 0 [Note] Shutting down plugin 'INNODB_CMP'\n",
            "2021-10-28T15:37:49.748994Z 0 [Note] Shutting down plugin 'INNODB_LOCK_WAITS'\n",
            "2021-10-28T15:37:49.748997Z 0 [Note] Shutting down plugin 'INNODB_LOCKS'\n",
            "2021-10-28T15:37:49.748999Z 0 [Note] Shutting down plugin 'INNODB_TRX'\n",
            "2021-10-28T15:37:49.749003Z 0 [Note] Shutting down plugin 'InnoDB'\n",
            "2021-10-28T15:37:49.749137Z 0 [Note] InnoDB: FTS optimize thread exiting.\n",
            "2021-10-28T15:37:49.749577Z 0 [Note] InnoDB: Starting shutdown...\n",
            "2021-10-28T15:37:49.849893Z 0 [Note] InnoDB: Dumping buffer pool(s) to /var/lib/mysql/ib_buffer_pool\n",
            "2021-10-28T15:37:49.850347Z 0 [Note] InnoDB: Buffer pool(s) dump completed at 211028 15:37:49\n",
            "2021-10-28T15:37:50.861023Z 0 [Note] InnoDB: Shutdown completed; log sequence number 12665723\n",
            "2021-10-28T15:37:50.863283Z 0 [Note] InnoDB: Removed temporary tablespace data file: \"ibtmp1\"\n",
            "2021-10-28T15:37:50.863321Z 0 [Note] Shutting down plugin 'MEMORY'\n",
            "2021-10-28T15:37:50.863335Z 0 [Note] Shutting down plugin 'CSV'\n",
            "2021-10-28T15:37:50.863347Z 0 [Note] Shutting down plugin 'sha256_password'\n",
            "2021-10-28T15:37:50.863358Z 0 [Note] Shutting down plugin 'mysql_native_password'\n",
            "2021-10-28T15:37:50.863590Z 0 [Note] Shutting down plugin 'binlog'\n",
            "2021-10-28T15:37:50.865440Z 0 [Note] mysqld: Shutdown complete\n",
            "\n",
            "2021-10-28 15:37:51+00:00 [Note] [Entrypoint]: Temporary server stopped\n",
            "\n",
            "2021-10-28 15:37:51+00:00 [Note] [Entrypoint]: MySQL init process done. Ready for start up.\n",
            "\n",
            "2021-10-28T15:37:51.962788Z 0 [Warning] TIMESTAMP with implicit DEFAULT value is deprecated. Please use --explicit_defaults_for_timestamp server option (see documentation for more details).\n",
            "2021-10-28T15:37:51.964683Z 0 [Note] mysqld (mysqld 5.7.35) starting as process 1 ...\n",
            "2021-10-28T15:37:51.968269Z 0 [Note] InnoDB: PUNCH HOLE support available\n",
            "2021-10-28T15:37:51.968298Z 0 [Note] InnoDB: Mutexes and rw_locks use GCC atomic builtins\n",
            "2021-10-28T15:37:51.968302Z 0 [Note] InnoDB: Uses event mutexes\n",
            "2021-10-28T15:37:51.968314Z 0 [Note] InnoDB: GCC builtin __atomic_thread_fence() is used for memory barrier\n",
            "2021-10-28T15:37:51.968323Z 0 [Note] InnoDB: Compressed tables use zlib 1.2.11\n",
            "2021-10-28T15:37:51.968330Z 0 [Note] InnoDB: Using Linux native AIO\n",
            "2021-10-28T15:37:51.968610Z 0 [Note] InnoDB: Number of pools: 1\n",
            "2021-10-28T15:37:51.968758Z 0 [Note] InnoDB: Using CPU crc32 instructions\n",
            "2021-10-28T15:37:51.970945Z 0 [Note] InnoDB: Initializing buffer pool, total size = 128M, instances = 1, chunk size = 128M\n",
            "2021-10-28T15:37:51.980383Z 0 [Note] InnoDB: Completed initialization of buffer pool\n",
            "2021-10-28T15:37:51.983107Z 0 [Note] InnoDB: If the mysqld execution user is authorized, page cleaner thread priority can be changed. See the man page of setpriority().\n",
            "2021-10-28T15:37:51.995141Z 0 [Note] InnoDB: Highest supported file format is Barracuda.\n",
            "2021-10-28T15:37:52.009281Z 0 [Note] InnoDB: Creating shared tablespace for temporary tables\n",
            "2021-10-28T15:37:52.009411Z 0 [Note] InnoDB: Setting file './ibtmp1' size to 12 MB. Physically writing the file full; Please wait ...\n",
            "2021-10-28T15:37:52.053211Z 0 [Note] InnoDB: File './ibtmp1' size is now 12 MB.\n",
            "2021-10-28T15:37:52.054062Z 0 [Note] InnoDB: 96 redo rollback segment(s) found. 96 redo rollback segment(s) are active.\n",
            "2021-10-28T15:37:52.054081Z 0 [Note] InnoDB: 32 non-redo rollback segment(s) are active.\n",
            "2021-10-28T15:37:52.055087Z 0 [Note] InnoDB: Waiting for purge to start\n",
            "2021-10-28T15:37:52.105314Z 0 [Note] InnoDB: 5.7.35 started; log sequence number 12665723\n",
            "2021-10-28T15:37:52.105603Z 0 [Note] InnoDB: Loading buffer pool(s) from /var/lib/mysql/ib_buffer_pool\n",
            "2021-10-28T15:37:52.105773Z 0 [Note] Plugin 'FEDERATED' is disabled.\n",
            "2021-10-28T15:37:52.109177Z 0 [Note] InnoDB: Buffer pool(s) load completed at 211028 15:37:52\n",
            "2021-10-28T15:37:52.112867Z 0 [Note] Found ca.pem, server-cert.pem and server-key.pem in data directory. Trying to enable SSL support using them.\n",
            "2021-10-28T15:37:52.112895Z 0 [Note] Skipping generation of SSL certificates as certificate files are present in data directory.\n",
            "2021-10-28T15:37:52.112905Z 0 [Warning] A deprecated TLS version TLSv1 is enabled. Please use TLSv1.2 or higher.\n",
            "2021-10-28T15:37:52.112914Z 0 [Warning] A deprecated TLS version TLSv1.1 is enabled. Please use TLSv1.2 or higher.\n",
            "2021-10-28T15:37:52.113491Z 0 [Warning] CA certificate ca.pem is self signed.\n",
            "2021-10-28T15:37:52.113531Z 0 [Note] Skipping generation of RSA key pair as key files are present in data directory.\n",
            "2021-10-28T15:37:52.114360Z 0 [Note] Server hostname (bind-address): '*'; port: 3306\n",
            "2021-10-28T15:37:52.114408Z 0 [Note] IPv6 is available.\n",
            "2021-10-28T15:37:52.114425Z 0 [Note]   - '::' resolves to '::';\n",
            "2021-10-28T15:37:52.114439Z 0 [Note] Server socket created on IP: '::'.\n",
            "2021-10-28T15:37:52.117409Z 0 [Warning] Insecure configuration for --pid-file: Location '/var/run/mysqld' in the path is accessible to all OS users. Consider choosing a different directory.\n",
            "2021-10-28T15:37:52.127774Z 0 [Note] Event Scheduler: Loaded 0 events\n",
            "2021-10-28T15:37:52.128093Z 0 [Note] mysqld: ready for connections.\n",
            "Version: '5.7.35'  socket: '/var/run/mysqld/mysqld.sock'  port: 3306  MySQL Community Server (GPL)\n",
            "^C\n"
          ]
        }
      ]
    },
    {
      "cell_type": "code",
      "metadata": {
        "id": "2671c249",
        "outputId": "845704e2-b1d8-440c-c815-e1673f69b98c"
      },
      "source": [
        "!docker ps"
      ],
      "id": "2671c249",
      "execution_count": null,
      "outputs": [
        {
          "name": "stdout",
          "output_type": "stream",
          "text": [
            "CONTAINER ID   IMAGE                   COMMAND                  CREATED              STATUS              PORTS                                                  NAMES\r\n",
            "82e340addb47   jupyter/base-notebook   \"tini -g -- start-no…\"   About a minute ago   Up About a minute   0.0.0.0:8888->8888/tcp, :::8888->8888/tcp              infallible_mclaren\r\n",
            "141b00cd51e9   mysql:5.7.35            \"docker-entrypoint.s…\"   3 minutes ago        Up 3 minutes        0.0.0.0:3306->3306/tcp, :::3306->3306/tcp, 33060/tcp   hopeful_lalande\r\n"
          ]
        }
      ]
    },
    {
      "cell_type": "markdown",
      "metadata": {
        "id": "BZhnOFYeOYvN"
      },
      "source": [
        "## Docker compose"
      ],
      "id": "BZhnOFYeOYvN"
    },
    {
      "cell_type": "code",
      "metadata": {
        "id": "30ae89ef",
        "outputId": "dab54325-edc9-4ede-9281-15971d7517e2"
      },
      "source": [
        "!docker network inspect my_test_network1 "
      ],
      "id": "30ae89ef",
      "execution_count": null,
      "outputs": [
        {
          "name": "stdout",
          "output_type": "stream",
          "text": [
            "[\r\n",
            "    {\r\n",
            "        \"Name\": \"my_test_network1\",\r\n",
            "        \"Id\": \"e3c6e10324e649e36682539b2647b2a25e52dbe1d48b5df2472964f11a718413\",\r\n",
            "        \"Created\": \"2021-10-28T09:30:35.786932254-06:00\",\r\n",
            "        \"Scope\": \"local\",\r\n",
            "        \"Driver\": \"bridge\",\r\n",
            "        \"EnableIPv6\": false,\r\n",
            "        \"IPAM\": {\r\n",
            "            \"Driver\": \"default\",\r\n",
            "            \"Options\": {},\r\n",
            "            \"Config\": [\r\n",
            "                {\r\n",
            "                    \"Subnet\": \"172.20.0.0/16\",\r\n",
            "                    \"Gateway\": \"172.20.0.1\"\r\n",
            "                }\r\n",
            "            ]\r\n",
            "        },\r\n",
            "        \"Internal\": false,\r\n",
            "        \"Attachable\": false,\r\n",
            "        \"Ingress\": false,\r\n",
            "        \"ConfigFrom\": {\r\n",
            "            \"Network\": \"\"\r\n",
            "        },\r\n",
            "        \"ConfigOnly\": false,\r\n",
            "        \"Containers\": {\r\n",
            "            \"141b00cd51e9ce027fc4a3a31b8f711bad69b69ed92ac3be5ff711d2f61cad64\": {\r\n",
            "                \"Name\": \"hopeful_lalande\",\r\n",
            "                \"EndpointID\": \"a4d95644184a894af1566cd4568e3786ef7f24c5fda779e24f5f11247b5ff9b7\",\r\n",
            "                \"MacAddress\": \"02:42:ac:14:00:02\",\r\n",
            "                \"IPv4Address\": \"172.20.0.2/16\",\r\n",
            "                \"IPv6Address\": \"\"\r\n",
            "            },\r\n",
            "            \"82e340addb472213311a1acd2702a2538dd4ca860e3d90b1369d0e34f4b42eed\": {\r\n",
            "                \"Name\": \"infallible_mclaren\",\r\n",
            "                \"EndpointID\": \"cde157e3d62ee833ce20b39575edadc4cf76d58df6ad0888a092564111246e22\",\r\n",
            "                \"MacAddress\": \"02:42:ac:14:00:03\",\r\n",
            "                \"IPv4Address\": \"172.20.0.3/16\",\r\n",
            "                \"IPv6Address\": \"\"\r\n",
            "            }\r\n",
            "        },\r\n",
            "        \"Options\": {},\r\n",
            "        \"Labels\": {}\r\n",
            "    }\r\n",
            "]\r\n"
          ]
        }
      ]
    },
    {
      "cell_type": "code",
      "metadata": {
        "id": "939bd39d",
        "outputId": "b6574bcc-abc7-4a62-963f-327887f1b6fc"
      },
      "source": [
        "!cat docker-compose.yml"
      ],
      "id": "939bd39d",
      "execution_count": null,
      "outputs": [
        {
          "name": "stdout",
          "output_type": "stream",
          "text": [
            "version: '3.7'\r\n",
            "\r\n",
            "services:\r\n",
            "\r\n",
            "  db:\r\n",
            "    image: mysql:5.7.35\r\n",
            "    volumes:\r\n",
            "      - db_data:/var/lib/mysql\r\n",
            "    restart: always\r\n",
            "    ports:\r\n",
            "      - 3306:3306\r\n",
            "    environment:\r\n",
            "      MYSQL_ROOT_PASSWORD: test123\r\n",
            "      MYSQL_DATABASE: test\r\n",
            "      MYSQL_USER: test\r\n",
            "      MYSQL_PASSWORD: test123\r\n",
            "\r\n",
            "  jupyter:\r\n",
            "    image: jupyter/base-notebook\r\n",
            "    ports:\r\n",
            "      - 8888:8888\r\n",
            "    \r\n",
            "volumes:\r\n",
            "  db_data:\r\n"
          ]
        }
      ]
    },
    {
      "cell_type": "code",
      "metadata": {
        "id": "e43cb34c",
        "outputId": "18094294-4e44-4dd2-ee8a-daa611e37fd3"
      },
      "source": [
        "!docker-compose up"
      ],
      "id": "e43cb34c",
      "execution_count": null,
      "outputs": [
        {
          "name": "stdout",
          "output_type": "stream",
          "text": [
            "Starting documents_db_1 ... \n",
            "Starting documents_jupyter_1 ... \n",
            "\u001b[2BAttaching to documents_jupyter_1, documents_db_1\n",
            "\u001b[36mdb_1       |\u001b[0m 2021-10-28 18:32:15+00:00 [Note] [Entrypoint]: Entrypoint script for MySQL Server 5.7.35-1debian10 started.\n",
            "\u001b[33mjupyter_1  |\u001b[0m WARN: Jupyter Notebook deprecation notice https://github.com/jupyter/docker-stacks#jupyter-notebook-deprecation-notice.\n",
            "\u001b[33mjupyter_1  |\u001b[0m Executing the command: jupyter notebook\n",
            "\u001b[36mdb_1       |\u001b[0m 2021-10-28 18:32:15+00:00 [Note] [Entrypoint]: Switching to dedicated user 'mysql'\n",
            "\u001b[36mdb_1       |\u001b[0m 2021-10-28 18:32:15+00:00 [Note] [Entrypoint]: Entrypoint script for MySQL Server 5.7.35-1debian10 started.\n",
            "\u001b[36mdb_1       |\u001b[0m 2021-10-28T18:32:15.907675Z 0 [Warning] TIMESTAMP with implicit DEFAULT value is deprecated. Please use --explicit_defaults_for_timestamp server option (see documentation for more details).\n",
            "\u001b[36mdb_1       |\u001b[0m 2021-10-28T18:32:15.914839Z 0 [Note] mysqld (mysqld 5.7.35) starting as process 1 ...\n",
            "\u001b[36mdb_1       |\u001b[0m 2021-10-28T18:32:15.922487Z 0 [Note] InnoDB: PUNCH HOLE support available\n",
            "\u001b[36mdb_1       |\u001b[0m 2021-10-28T18:32:15.922516Z 0 [Note] InnoDB: Mutexes and rw_locks use GCC atomic builtins\n",
            "\u001b[36mdb_1       |\u001b[0m 2021-10-28T18:32:15.922524Z 0 [Note] InnoDB: Uses event mutexes\n",
            "\u001b[36mdb_1       |\u001b[0m 2021-10-28T18:32:15.922527Z 0 [Note] InnoDB: GCC builtin __atomic_thread_fence() is used for memory barrier\n",
            "\u001b[36mdb_1       |\u001b[0m 2021-10-28T18:32:15.922530Z 0 [Note] InnoDB: Compressed tables use zlib 1.2.11\n",
            "\u001b[36mdb_1       |\u001b[0m 2021-10-28T18:32:15.922533Z 0 [Note] InnoDB: Using Linux native AIO\n",
            "\u001b[36mdb_1       |\u001b[0m 2021-10-28T18:32:15.923180Z 0 [Note] InnoDB: Number of pools: 1\n",
            "\u001b[36mdb_1       |\u001b[0m 2021-10-28T18:32:15.923414Z 0 [Note] InnoDB: Using CPU crc32 instructions\n",
            "\u001b[36mdb_1       |\u001b[0m 2021-10-28T18:32:15.926547Z 0 [Note] InnoDB: Initializing buffer pool, total size = 128M, instances = 1, chunk size = 128M\n",
            "\u001b[36mdb_1       |\u001b[0m 2021-10-28T18:32:15.939893Z 0 [Note] InnoDB: Completed initialization of buffer pool\n",
            "\u001b[36mdb_1       |\u001b[0m 2021-10-28T18:32:15.945555Z 0 [Note] InnoDB: If the mysqld execution user is authorized, page cleaner thread priority can be changed. See the man page of setpriority().\n",
            "\u001b[36mdb_1       |\u001b[0m 2021-10-28T18:32:15.963911Z 0 [Note] InnoDB: Highest supported file format is Barracuda.\n",
            "\u001b[36mdb_1       |\u001b[0m 2021-10-28T18:32:15.984956Z 0 [Note] InnoDB: Creating shared tablespace for temporary tables\n",
            "\u001b[36mdb_1       |\u001b[0m 2021-10-28T18:32:15.985170Z 0 [Note] InnoDB: Setting file './ibtmp1' size to 12 MB. Physically writing the file full; Please wait ...\n",
            "\u001b[36mdb_1       |\u001b[0m 2021-10-28T18:32:16.062750Z 0 [Note] InnoDB: File './ibtmp1' size is now 12 MB.\n",
            "\u001b[36mdb_1       |\u001b[0m 2021-10-28T18:32:16.064801Z 0 [Note] InnoDB: 96 redo rollback segment(s) found. 96 redo rollback segment(s) are active.\n",
            "\u001b[36mdb_1       |\u001b[0m 2021-10-28T18:32:16.064832Z 0 [Note] InnoDB: 32 non-redo rollback segment(s) are active.\n",
            "\u001b[36mdb_1       |\u001b[0m 2021-10-28T18:32:16.065756Z 0 [Note] InnoDB: 5.7.35 started; log sequence number 12665751\n",
            "\u001b[36mdb_1       |\u001b[0m 2021-10-28T18:32:16.066181Z 0 [Note] InnoDB: Loading buffer pool(s) from /var/lib/mysql/ib_buffer_pool\n",
            "\u001b[36mdb_1       |\u001b[0m 2021-10-28T18:32:16.066644Z 0 [Note] Plugin 'FEDERATED' is disabled.\n",
            "\u001b[36mdb_1       |\u001b[0m 2021-10-28T18:32:16.075548Z 0 [Note] InnoDB: Buffer pool(s) load completed at 211028 18:32:16\n",
            "\u001b[36mdb_1       |\u001b[0m 2021-10-28T18:32:16.091032Z 0 [Note] Found ca.pem, server-cert.pem and server-key.pem in data directory. Trying to enable SSL support using them.\n",
            "\u001b[36mdb_1       |\u001b[0m 2021-10-28T18:32:16.091057Z 0 [Note] Skipping generation of SSL certificates as certificate files are present in data directory.\n",
            "\u001b[36mdb_1       |\u001b[0m 2021-10-28T18:32:16.091062Z 0 [Warning] A deprecated TLS version TLSv1 is enabled. Please use TLSv1.2 or higher.\n",
            "\u001b[36mdb_1       |\u001b[0m 2021-10-28T18:32:16.091065Z 0 [Warning] A deprecated TLS version TLSv1.1 is enabled. Please use TLSv1.2 or higher.\n",
            "\u001b[36mdb_1       |\u001b[0m 2021-10-28T18:32:16.091789Z 0 [Warning] CA certificate ca.pem is self signed.\n",
            "\u001b[36mdb_1       |\u001b[0m 2021-10-28T18:32:16.091821Z 0 [Note] Skipping generation of RSA key pair as key files are present in data directory.\n",
            "\u001b[36mdb_1       |\u001b[0m 2021-10-28T18:32:16.092631Z 0 [Note] Server hostname (bind-address): '*'; port: 3306\n",
            "\u001b[36mdb_1       |\u001b[0m 2021-10-28T18:32:16.092674Z 0 [Note] IPv6 is available.\n",
            "\u001b[36mdb_1       |\u001b[0m 2021-10-28T18:32:16.092687Z 0 [Note]   - '::' resolves to '::';\n",
            "\u001b[36mdb_1       |\u001b[0m 2021-10-28T18:32:16.092711Z 0 [Note] Server socket created on IP: '::'.\n",
            "\u001b[36mdb_1       |\u001b[0m 2021-10-28T18:32:16.095798Z 0 [Warning] Insecure configuration for --pid-file: Location '/var/run/mysqld' in the path is accessible to all OS users. Consider choosing a different directory.\n",
            "\u001b[36mdb_1       |\u001b[0m 2021-10-28T18:32:16.110671Z 0 [Note] Event Scheduler: Loaded 0 events\n",
            "\u001b[36mdb_1       |\u001b[0m 2021-10-28T18:32:16.111065Z 0 [Note] mysqld: ready for connections.\n",
            "\u001b[36mdb_1       |\u001b[0m Version: '5.7.35'  socket: '/var/run/mysqld/mysqld.sock'  port: 3306  MySQL Community Server (GPL)\n",
            "\u001b[33mjupyter_1  |\u001b[0m [W 2021-10-28 18:32:17.007 LabApp] 'ip' has moved from NotebookApp to ServerApp. This config will be passed to ServerApp. Be sure to update your config before our next release.\n",
            "\u001b[33mjupyter_1  |\u001b[0m [W 2021-10-28 18:32:17.008 LabApp] 'port' has moved from NotebookApp to ServerApp. This config will be passed to ServerApp. Be sure to update your config before our next release.\n",
            "\u001b[33mjupyter_1  |\u001b[0m [W 2021-10-28 18:32:17.008 LabApp] 'port' has moved from NotebookApp to ServerApp. This config will be passed to ServerApp. Be sure to update your config before our next release.\n",
            "\u001b[33mjupyter_1  |\u001b[0m [W 2021-10-28 18:32:17.008 LabApp] 'port' has moved from NotebookApp to ServerApp. This config will be passed to ServerApp. Be sure to update your config before our next release.\n",
            "\u001b[33mjupyter_1  |\u001b[0m [I 2021-10-28 18:32:17.020 LabApp] JupyterLab extension loaded from /opt/conda/lib/python3.9/site-packages/jupyterlab\n",
            "\u001b[33mjupyter_1  |\u001b[0m [I 2021-10-28 18:32:17.020 LabApp] JupyterLab application directory is /opt/conda/share/jupyter/lab\n",
            "\u001b[33mjupyter_1  |\u001b[0m [I 18:32:17.027 NotebookApp] Serving notebooks from local directory: /home/jovyan\n",
            "\u001b[33mjupyter_1  |\u001b[0m [I 18:32:17.027 NotebookApp] Jupyter Notebook 6.4.5 is running at:\n",
            "\u001b[33mjupyter_1  |\u001b[0m [I 18:32:17.027 NotebookApp] http://84dee860c52c:8888/?token=eb51acff9122d2ebbf0fd33370041d765d9addb4758dd64a\n",
            "\u001b[33mjupyter_1  |\u001b[0m [I 18:32:17.027 NotebookApp]  or http://127.0.0.1:8888/?token=eb51acff9122d2ebbf0fd33370041d765d9addb4758dd64a\n",
            "\u001b[33mjupyter_1  |\u001b[0m [I 18:32:17.027 NotebookApp] Use Control-C to stop this server and shut down all kernels (twice to skip confirmation).\n",
            "\u001b[33mjupyter_1  |\u001b[0m [C 18:32:17.034 NotebookApp] \n",
            "\u001b[33mjupyter_1  |\u001b[0m     \n",
            "\u001b[33mjupyter_1  |\u001b[0m     To access the notebook, open this file in a browser:\n",
            "\u001b[33mjupyter_1  |\u001b[0m         file:///home/jovyan/.local/share/jupyter/runtime/nbserver-7-open.html\n",
            "\u001b[33mjupyter_1  |\u001b[0m     Or copy and paste one of these URLs:\n",
            "\u001b[33mjupyter_1  |\u001b[0m         http://84dee860c52c:8888/?token=eb51acff9122d2ebbf0fd33370041d765d9addb4758dd64a\n",
            "\u001b[33mjupyter_1  |\u001b[0m      or http://127.0.0.1:8888/?token=eb51acff9122d2ebbf0fd33370041d765d9addb4758dd64a\n",
            "\u001b[33mjupyter_1  |\u001b[0m [I 18:32:37.316 NotebookApp] 302 GET /?token=eb51acff9122d2ebbf0fd33370041d765d9addb4758dd64a (172.21.0.1) 1.130000ms\n",
            "\u001b[33mjupyter_1  |\u001b[0m [I 18:37:46.790 NotebookApp] Creating new notebook in /work\n",
            "\u001b[33mjupyter_1  |\u001b[0m [I 18:37:46.813 NotebookApp] Writing notebook-signing key to /home/jovyan/.local/share/jupyter/notebook_secret\n",
            "\u001b[33mjupyter_1  |\u001b[0m Exception in callback <TaskWakeupMethWrapper object at 0x7fc68d4d9d60>(<Future finis...igin\\r\\n\\r\\n'>)\n",
            "\u001b[33mjupyter_1  |\u001b[0m handle: <Handle <TaskWakeupMethWrapper object at 0x7fc68d4d9d60>(<Future finis...igin\\r\\n\\r\\n'>)>\n",
            "\u001b[33mjupyter_1  |\u001b[0m Traceback (most recent call last):\n",
            "\u001b[33mjupyter_1  |\u001b[0m   File \"/opt/conda/lib/python3.9/asyncio/events.py\", line 80, in _run\n",
            "\u001b[33mjupyter_1  |\u001b[0m     self._context.run(self._callback, *self._args)\n",
            "\u001b[33mjupyter_1  |\u001b[0m RuntimeError: Cannot enter into task <Task pending name='Task-41' coro=<HTTP1ServerConnection._server_request_loop() running at /opt/conda/lib/python3.9/site-packages/tornado/http1connection.py:823> wait_for=<Future finished result=b'GET /kernel...rigin\\r\\n\\r\\n'> cb=[IOLoop.add_future.<locals>.<lambda>() at /opt/conda/lib/python3.9/site-packages/tornado/ioloop.py:688]> while another task <Task pending name='Task-1' coro=<MultiKernelManager._async_start_kernel() running at /opt/conda/lib/python3.9/site-packages/jupyter_client/multikernelmanager.py:186>> is being executed.\n",
            "\u001b[33mjupyter_1  |\u001b[0m Exception in callback <TaskWakeupMethWrapper object at 0x7fc68d3a9d30>(<Future finis...igin\\r\\n\\r\\n'>)\n",
            "\u001b[33mjupyter_1  |\u001b[0m handle: <Handle <TaskWakeupMethWrapper object at 0x7fc68d3a9d30>(<Future finis...igin\\r\\n\\r\\n'>)>\n",
            "\u001b[33mjupyter_1  |\u001b[0m Traceback (most recent call last):\n",
            "\u001b[33mjupyter_1  |\u001b[0m   File \"/opt/conda/lib/python3.9/asyncio/events.py\", line 80, in _run\n",
            "\u001b[33mjupyter_1  |\u001b[0m     self._context.run(self._callback, *self._args)\n",
            "\u001b[33mjupyter_1  |\u001b[0m RuntimeError: Cannot enter into task <Task pending name='Task-45' coro=<HTTP1ServerConnection._server_request_loop() running at /opt/conda/lib/python3.9/site-packages/tornado/http1connection.py:823> wait_for=<Future finished result=b'GET /api/co...rigin\\r\\n\\r\\n'> cb=[IOLoop.add_future.<locals>.<lambda>() at /opt/conda/lib/python3.9/site-packages/tornado/ioloop.py:688]> while another task <Task pending name='Task-2' coro=<KernelManager._async_start_kernel() running at /opt/conda/lib/python3.9/site-packages/jupyter_client/manager.py:336>> is being executed.\n",
            "\u001b[33mjupyter_1  |\u001b[0m [I 18:37:48.172 NotebookApp] Kernel started: 3aae0cf9-4b00-42c2-ad13-6f4eabbaf8fb, name: python3\n",
            "\u001b[33mjupyter_1  |\u001b[0m [W 18:37:48.189 NotebookApp] 404 GET /nbextensions/widgets/notebook/js/extension.js?v=20211028183215 (172.21.0.1) 10.190000ms referer=http://127.0.0.1:8888/notebooks/work/Untitled.ipynb?kernel_name=python3\n",
            "\u001b[33mjupyter_1  |\u001b[0m [I 18:39:48.141 NotebookApp] Saving file at /work/Jupyter_MYSQL_Docker_Compose.ipynb\n",
            "\u001b[33mjupyter_1  |\u001b[0m [I 18:41:47.913 NotebookApp] Saving file at /work/Jupyter_MYSQL_Docker_Compose.ipynb\n",
            "\u001b[33mjupyter_1  |\u001b[0m [W 18:42:33.033 NotebookApp] Notebook work/Jupyter_MYSQL_Docker_Compose.ipynb is not trusted\n",
            "^C\n",
            "Gracefully stopping... (press Ctrl+C again to force)\n",
            "Stopping documents_jupyter_1 ... \n",
            "Stopping documents_db_1      ... \n"
          ]
        }
      ]
    }
  ]
}